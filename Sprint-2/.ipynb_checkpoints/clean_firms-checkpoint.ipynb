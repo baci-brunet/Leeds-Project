{
 "cells": [
  {
   "cell_type": "code",
   "execution_count": 1,
   "id": "80cff35d-a5a5-488d-a918-b7a3e1a8cfee",
   "metadata": {},
   "outputs": [],
   "source": [
    "import pandas as pd\n",
    "import numpy as np\n",
    "import re\n",
    "from nltk.tokenize import word_tokenize"
   ]
  },
  {
   "cell_type": "markdown",
   "id": "98b6bedd-6533-4147-8b35-671bd10d5f4b",
   "metadata": {},
   "source": [
    "**<span style=\"font-size:2em;\">Clean and Process on Firm Name Data (MOVE TO NEW SCRIPT and save clean firms as a file)</span>**"
   ]
  },
  {
   "cell_type": "markdown",
   "id": "a2f8489e-cb6f-4674-b1e6-be16454d80b3",
   "metadata": {},
   "source": [
    "**All of the Firm Name Data**"
   ]
  },
  {
   "cell_type": "code",
   "execution_count": 2,
   "id": "80b3cef3-a489-402f-a27f-98a20a9ad41b",
   "metadata": {},
   "outputs": [],
   "source": [
    "# # Firm name data \n",
    "# df_firms_crsp = pd.read_csv('../../Data/FirmNameData/firm.names.crsp.csv')\n",
    "# df_firms_earn = pd.read_csv('../../Data/FirmNameData/firm.names.earnings.wsh.csv')\n",
    "# df_firms_execucomp = pd.read_csv('../../Data/FirmNameData/firm.names.execucomp.csv')\n",
    "# df_firms_crsp.columns, df_firms_earn.columns, df_firms_execucomp.columns = ['Name'],['Name'],['Name']\n",
    "\n",
    "# # Firm name data from wiki (different format)\n",
    "# df_firms_wiki = pd.read_csv('../../Data/FirmNameData/firm.names.wiki.csv')\n",
    "# df_firms_wiki.columns = ['Name', 'Ticker', 'Market', 'Website', 'Exchange']\n",
    "# df_firms_wiki_names = pd.DataFrame(df_firms_wiki.Name)\n",
    "\n",
    "# # Condense into one dataframe for ease of searching (size 21335)\n",
    "# df_firms = ((df_firms_crsp.append(df_firms_earn)).append(df_firms_execucomp)).append(df_firms_wiki_names)\n",
    "\n",
    "# # Remove duplicate entries\n",
    "# firms_with_duplicates = [firm.lower() for firm in df_firms['Name'].tolist()]\n",
    "# firms_no_duplicates = []\n",
    "# for firm in firms_with_duplicates:\n",
    "#     if firm not in firms_no_duplicates:\n",
    "#         firms_no_duplicates.append(firm)"
   ]
  },
  {
   "cell_type": "markdown",
   "id": "bf12e0e8-c7fc-42e1-b11e-41012516eb52",
   "metadata": {},
   "source": [
    "**CRSP Firm Name Data (For Testing)**"
   ]
  },
  {
   "cell_type": "code",
   "execution_count": 3,
   "id": "81838b12-4970-49fc-9400-639d848df22b",
   "metadata": {},
   "outputs": [],
   "source": [
    "df_firms_crsp = pd.read_csv('../../Data/FirmNameData/firm.names.crsp.csv')\n",
    "df_firms_crsp.columns = ['Name']"
   ]
  },
  {
   "cell_type": "markdown",
   "id": "75f666ba-b1c5-4f64-b90d-9b395f4b65d5",
   "metadata": {},
   "source": [
    "**Read State Abreviations Data for Cleaning (Have not used this yet)**"
   ]
  },
  {
   "cell_type": "code",
   "execution_count": 4,
   "id": "19bc2ec4-a4a4-40cf-a0f5-39686322655a",
   "metadata": {},
   "outputs": [],
   "source": [
    "df_states = pd.read_excel('../../Data/Other/state_abv.xlsx')\n",
    "states_abv = [str(ab).lower() for ab in df_states['USPS Abbreviation'].tolist()]"
   ]
  },
  {
   "cell_type": "markdown",
   "id": "66863d5c-23ec-4020-a17f-f686dc232159",
   "metadata": {},
   "source": [
    "**Function to Join Single Characters in Name**"
   ]
  },
  {
   "cell_type": "code",
   "execution_count": 5,
   "id": "920a09b8-5181-4a36-8507-463cbe092040",
   "metadata": {},
   "outputs": [],
   "source": [
    "def join_name(row):\n",
    "    split = row.split()\n",
    "    new_string = []\n",
    "    single_chars = []\n",
    "    rest_of_string = []\n",
    "    for i in range(len(split)):\n",
    "            if len(split[i]) == 1 and not split[i].isnumeric():\n",
    "                single_chars.append((split[i].lower(), i))\n",
    "            else:\n",
    "                rest_of_string.append((split[i].lower(), i))\n",
    "                \n",
    "    if len(single_chars) <= 1:\n",
    "        return row.lower()\n",
    "    else:\n",
    "        chars_to_remove = []\n",
    "        # Edge cases\n",
    "        for i in range(len(single_chars)):\n",
    "            # Lone single char is first letter. Example: 'X ENERGY GROUP'\n",
    "            if i == 0:\n",
    "                if single_chars[i][1] != single_chars[i + 1][1] - 1:\n",
    "                    chars_to_remove.append(single_chars[i])\n",
    "            # Lone single char is last letter. Example: 'XC ENERGY GROUP H'\n",
    "            elif i == len(single_chars) - 1:\n",
    "                if single_chars[i][1] != single_chars[i - 1][1] + 1: \n",
    "                    chars_to_remove.append(single_chars[i])\n",
    "            # Lone single char is between two words letter. Example: 'XC ENERGY H GROUP'\n",
    "            else:\n",
    "                if single_chars[i][1] != single_chars[i - 1][1] + 1 and single_chars[i][1] != single_chars[i + 1][1] - 1:\n",
    "                    chars_to_remove.append(single_chars[i])\n",
    "\n",
    "        for char in chars_to_remove:\n",
    "            if char in single_chars:\n",
    "                single_chars.remove(char)\n",
    "            rest_of_string.append(char)\n",
    "\n",
    "        while len(single_chars) > 0:\n",
    "            j = 0\n",
    "            tent_l = []\n",
    "            while j < len(single_chars) - 1 and single_chars[j][1] == single_chars[j + 1][1] - 1:\n",
    "                if single_chars[j] not in tent_l:\n",
    "                    tent_l.append(single_chars[j])\n",
    "                if single_chars[j + 1] not in tent_l: \n",
    "                    tent_l.append(single_chars[j + 1])\n",
    "                j += 1\n",
    "\n",
    "            for letter in tent_l:\n",
    "                if letter in single_chars:\n",
    "                    single_chars.remove(letter)\n",
    "\n",
    "            rest_of_string.append((''.join([tpl[0] for tpl in tent_l]), tent_l[0][1]))\n",
    "\n",
    "        rest_of_string.sort(key = lambda x: x[1]) \n",
    "        return ' '.join([tpl[0] for tpl in rest_of_string])"
   ]
  },
  {
   "cell_type": "markdown",
   "id": "e126a26e-5eaf-4879-82ba-ed70be937638",
   "metadata": {},
   "source": [
    "**Function to Remove Words from Firm Names**"
   ]
  },
  {
   "cell_type": "code",
   "execution_count": 7,
   "id": "74f0de42-f06e-402c-9837-d5c1468473a1",
   "metadata": {},
   "outputs": [],
   "source": [
    "def remove_words(list_of_words, row):\n",
    "    tokens = word_tokenize(row)\n",
    "    new_name = []\n",
    "    for word in tokens:\n",
    "        if word not in list_of_words:\n",
    "            new_name.append(word)\n",
    "    return ' '.join(new_name)"
   ]
  },
  {
   "cell_type": "markdown",
   "id": "1e948494-e87d-4af3-aea8-45efa05a93ed",
   "metadata": {},
   "source": [
    "**Join Single Characters**"
   ]
  },
  {
   "cell_type": "code",
   "execution_count": 8,
   "id": "a1ef44f1-4045-4fa5-af7d-24aee7c6a445",
   "metadata": {},
   "outputs": [],
   "source": [
    "df_firms_crsp['Cleaned_Name'] = df_firms_crsp['Name'].apply(lambda name: join_name(name))"
   ]
  },
  {
   "cell_type": "markdown",
   "id": "63cc3977-3f12-4583-a639-13abb2f0d26e",
   "metadata": {},
   "source": [
    "**Remove words like 'Inc', 'Corp', 'Co's, and state abreviations From Firm Names**"
   ]
  },
  {
   "cell_type": "code",
   "execution_count": 9,
   "id": "c61a8aea-45b7-4a4d-a86d-dcbeab7c1927",
   "metadata": {},
   "outputs": [],
   "source": [
    "words_to_remove = ['inc', 'corp', 'co', 'mlp'] + states_abv\n",
    "df_firms_crsp['Cleaned_Name'] = df_firms_crsp['Cleaned_Name'].apply(lambda name: remove_words(words_to_remove, name))"
   ]
  },
  {
   "cell_type": "markdown",
   "id": "dc389fe8-0d81-483c-a8a0-9b0bf59ed094",
   "metadata": {},
   "source": [
    "**Save to New File**"
   ]
  },
  {
   "cell_type": "code",
   "execution_count": 10,
   "id": "4bbb0500-eb83-4dff-8f86-22fbde338283",
   "metadata": {},
   "outputs": [],
   "source": [
    "df_firms_crsp.to_excel('../../Data/FirmNameData/cleaned_firms.xlsx', index=False)"
   ]
  },
  {
   "cell_type": "code",
   "execution_count": null,
   "id": "dd6d92e5-72ef-4dfd-ba73-ac49b6979198",
   "metadata": {},
   "outputs": [],
   "source": []
  }
 ],
 "metadata": {
  "kernelspec": {
   "display_name": "Python 3 (ipykernel)",
   "language": "python",
   "name": "python3"
  },
  "language_info": {
   "codemirror_mode": {
    "name": "ipython",
    "version": 3
   },
   "file_extension": ".py",
   "mimetype": "text/x-python",
   "name": "python",
   "nbconvert_exporter": "python",
   "pygments_lexer": "ipython3",
   "version": "3.9.12"
  }
 },
 "nbformat": 4,
 "nbformat_minor": 5
}
