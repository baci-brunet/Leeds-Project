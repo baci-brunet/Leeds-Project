{
 "cells": [
  {
   "cell_type": "code",
   "execution_count": 72,
   "id": "74487404-a492-4bab-920e-ed89d4c58678",
   "metadata": {},
   "outputs": [],
   "source": [
    "import pandas as pd\n",
    "import numpy as np\n",
    "import collections\n",
    "import os\n",
    "import re\n",
    "import time\n",
    "from nltk.corpus import stopwords\n",
    "stop_words = set(stopwords.words('english'))\n",
    "pd.set_option('display.max_columns', None)\n",
    "pd.set_option('display.max_rows', None)"
   ]
  },
  {
   "cell_type": "code",
   "execution_count": 73,
   "id": "fef01fb4-8c7b-419b-96f7-efa97fe272bd",
   "metadata": {},
   "outputs": [],
   "source": [
    "output_path = '../OutputRaw'"
   ]
  },
  {
   "cell_type": "code",
   "execution_count": 74,
   "id": "fc36d9e4-58e7-40ce-bd26-f4a194b23a43",
   "metadata": {},
   "outputs": [],
   "source": [
    "# For sample_addhits and sample_reformat pairs\n",
    "output_files = []\n",
    "for folder in os.listdir(output_path):  \n",
    "    if folder != '.DS_Store' and folder != '.ipynb_checkpoints':\n",
    "        for file in os.listdir(os.path.join(output_path, folder)):\n",
    "            if file != '.ipynb_checkpoints':\n",
    "                output_files.append(os.path.join(output_path, os.path.join(folder, file)))"
   ]
  },
  {
   "cell_type": "code",
   "execution_count": 75,
   "id": "c9f1c297-c0c0-4beb-abda-1fccc6472455",
   "metadata": {},
   "outputs": [],
   "source": [
    "for file in output_files:\n",
    "    with open('sample_scripts/sample_reformat.sh', 'r') as sample_sh:\n",
    "        lines = sample_sh.readlines()\n",
    "        lines[1] = '#SBATCH --job-name {}\\n'.format(file.split('/')[3].strip('_output.csv'))\n",
    "        lines[14] = 'python3 /projects/sebr8260/Summit_Scripts/{}/scripts/{}.py\\n'.format(file.split('/')[2], file.split('/')[3].strip('_output.csv'))\n",
    "        with open('{}/shell_files/{}.sh'.format(file.split('/')[2], file.split('/')[3].strip('_output.csv')), 'w') as output_sh:\n",
    "            output_sh.write(''.join(lines))\n",
    "\n",
    "    with open('sample_scripts/sample_reformat.py', 'r') as sample_py:\n",
    "        script = sample_py.readlines()\n",
    "        script[7] = \"df = pd.read_csv('/projects/sebr8260/OutputRaw/{}/{}')\\n\".format(file.split('/')[2], file.split('/')[3])\n",
    "        script[32] = \"df.to_csv('/projects/sebr8260/OutputRaw/{}/{}', index=False)\\n\".format(file.split('/')[2], file.split('/')[3])\n",
    "        with open('{}/scripts/{}.py'.format(file.split('/')[2], file.split('/')[3].strip('_output.csv')), 'w') as output_py:\n",
    "            output_py.write(''.join(script))"
   ]
  },
  {
   "cell_type": "markdown",
   "id": "30e7fc37-1392-47cd-af8f-78ee51601d52",
   "metadata": {},
   "source": [
    "**Define Paths**"
   ]
  },
  {
   "cell_type": "code",
   "execution_count": 51,
   "id": "e0a4b551-74e2-4280-bb69-4d0def6a7118",
   "metadata": {},
   "outputs": [],
   "source": [
    "# corpora_data = '../Data/CorporaData'\n",
    "# output_data = '../OutputRaw'"
   ]
  },
  {
   "cell_type": "markdown",
   "id": "ff0179a8-85ca-4dc8-9ce4-4f0fe39ee56b",
   "metadata": {},
   "source": [
    "**Iterate Through Directories and Gather File Tuples**"
   ]
  },
  {
   "cell_type": "code",
   "execution_count": 52,
   "id": "437fbe61-0296-4ab1-9856-20d1d1df8846",
   "metadata": {},
   "outputs": [],
   "source": [
    "# # For sample_add_context pairs\n",
    "\n",
    "# file_tuples = []\n",
    "# for folder in os.listdir(corpora_data):\n",
    "#     if folder != '.DS_Store':\n",
    "#         for corpora_file in os.listdir(os.path.join(corpora_data, folder)):\n",
    "#             if corpora_file != '.DS_Store' and corpora_file != '.ipynb_checkpoints':\n",
    "#                 tv_corpora = os.path.join(corpora_data + '/' + folder, corpora_file)\n",
    "#                 network = tv_corpora.split('/')[4]\n",
    "#                 search_key = '.'.join((network.split('.')[0], network.split('.')[2]))\n",
    "#                 for media_network in os.listdir(output_data):\n",
    "#                     if media_network == search_key.split('.')[0]:\n",
    "#                         for hits_file in os.listdir(os.path.join(output_data, media_network)):\n",
    "#                             if hits_file.split('_')[1] == search_key.split('.')[1]:\n",
    "#                                 file_tuples.append((os.path.join(output_data, os.path.join(media_network, hits_file)), tv_corpora))"
   ]
  },
  {
   "cell_type": "code",
   "execution_count": 53,
   "id": "9b41856b-7096-4cad-87fe-8cdf599ed163",
   "metadata": {},
   "outputs": [],
   "source": [
    "# for file in file_tuples:\n",
    "#     with open('sample_scripts/sample_addcontext.sh', 'r') as sample_sh:\n",
    "#         lines = sample_sh.readlines()\n",
    "#         lines[1] = '#SBATCH --job-name {}\\n'.format(file[0].split('/')[3].strip('_output.csv'))\n",
    "#         lines[14] = 'python3 /projects/sebr8260/Summit_Scripts/{}/scripts/{}.py\\n'.format(file[0].split('/')[2], file[0].split('/')[3].strip('_output.csv'))\n",
    "#         with open('{}/shell_files/{}.sh'.format(file[0].split('/')[2], file[0].split('/')[3].strip('_output.csv')), 'w') as output_sh:\n",
    "#             output_sh.write(''.join(lines))\n",
    "\n",
    "#     with open('sample_scripts/sample_addcontext.py', 'r') as sample_py:\n",
    "#         script = sample_py.readlines()\n",
    "#         script[7] = \"tv_df = pd.read_csv('/projects/sebr8260/Data/CorporaData/{}/{}')\\n\".format(file[1].split('/')[3], file[1].split('/')[4])\n",
    "#         script[8] = \"output_df = pd.read_csv('/projects/sebr8260/OutputRaw/{}/{}')\\n\".format(file[0].split('/')[2], file[0].split('/')[3])\n",
    "#         script[9] = \"output_path = '/projects/sebr8260/OutputRaw/{}/{}'\\n\".format(file[0].split('/')[2], file[0].split('/')[3])\n",
    "#         with open('{}/scripts/{}.py'.format(file[0].split('/')[2], file[0].split('/')[3].strip('_output.csv')), 'w') as output_py:\n",
    "#             output_py.write(''.join(script))"
   ]
  },
  {
   "cell_type": "code",
   "execution_count": null,
   "id": "f372f7b0-967c-4c83-82e6-d8ca18033e91",
   "metadata": {},
   "outputs": [],
   "source": []
  }
 ],
 "metadata": {
  "kernelspec": {
   "display_name": "Python 3 (ipykernel)",
   "language": "python",
   "name": "python3"
  },
  "language_info": {
   "codemirror_mode": {
    "name": "ipython",
    "version": 3
   },
   "file_extension": ".py",
   "mimetype": "text/x-python",
   "name": "python",
   "nbconvert_exporter": "python",
   "pygments_lexer": "ipython3",
   "version": "3.9.9"
  }
 },
 "nbformat": 4,
 "nbformat_minor": 5
}
