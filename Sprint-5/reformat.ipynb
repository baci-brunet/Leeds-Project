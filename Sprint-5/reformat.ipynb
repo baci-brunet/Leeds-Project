{
 "cells": [
  {
   "cell_type": "code",
   "execution_count": 5,
   "id": "89361da5-ce3f-40a2-a22e-18655a4a6d77",
   "metadata": {},
   "outputs": [],
   "source": [
    "import pandas as pd\n",
    "import numpy as np\n",
    "import re\n",
    "import string\n",
    "import os"
   ]
  },
  {
   "cell_type": "code",
   "execution_count": 8,
   "id": "8e5a5746-177a-49ac-bebe-860f4cf15b90",
   "metadata": {},
   "outputs": [],
   "source": [
    "output_path = '../../OutputRaw'"
   ]
  },
  {
   "cell_type": "code",
   "execution_count": 9,
   "id": "3fd58e75-cc01-43e6-bc0b-6ec2f41f9723",
   "metadata": {},
   "outputs": [],
   "source": [
    "# For sample_addhits and sample_reformat pairs and sample\n",
    "files = []\n",
    "for folder in os.listdir(output_path):  \n",
    "    if folder != '.DS_Store' and folder != '.ipynb_checkpoints':\n",
    "        for output_file in os.listdir(os.path.join(output_path, folder)):\n",
    "            if output_file != '.ipynb_checkpoints':\n",
    "                files.append(os.path.join(output_path, os.path.join(folder, output_file)))"
   ]
  },
  {
   "cell_type": "code",
   "execution_count": 11,
   "id": "dc15f0a4-df7b-4c5f-8be3-4c7e5ba37b31",
   "metadata": {},
   "outputs": [
    {
     "data": {
      "text/plain": [
       "53"
      ]
     },
     "execution_count": 11,
     "metadata": {},
     "output_type": "execute_result"
    }
   ],
   "source": [
    "len(files)"
   ]
  },
  {
   "cell_type": "code",
   "execution_count": 13,
   "id": "fccbc19c-ad04-4959-8d0b-aed514ec9603",
   "metadata": {},
   "outputs": [],
   "source": [
    "firms_df = pd.read_csv('../../Data/Diego/conames_clean.csv')"
   ]
  },
  {
   "cell_type": "code",
   "execution_count": 14,
   "id": "9b98026e-a366-4c0b-9323-d5632d7e0617",
   "metadata": {},
   "outputs": [],
   "source": [
    "for file in files:\n",
    "    df = pd.read_csv(file)\n",
    "    del df['RawText_preprocessed']\n",
    "\n",
    "    lot = []\n",
    "    for i in range(len(df.index)):\n",
    "        if df.loc[i, 'Matched Organizations'] != 'No Hits':\n",
    "            for firm_name in str(df.loc[i, 'Matched Organizations']).split(', '):\n",
    "                if firm_name != 'nan':\n",
    "                    key = '/'.join(firm_name.split('/')[1:2])\n",
    "                    lot.append((df.loc[i, 'URL'],\n",
    "                                df.loc[i, 'Title'],\n",
    "                                df.loc[i, 'Topics'],\n",
    "                                firm_name.split('+')[0], \n",
    "                                firm_name.split('+')[1], \n",
    "                                firm_name.split('+')[2]\n",
    "                               ))\n",
    "        else:\n",
    "            continue\n",
    "\n",
    "    final_df = pd.DataFrame(lot, columns = ['URL', 'Title', 'Topics', 'Search Term', 'Time', 'Frequency'])\n",
    "\n",
    "    final_df['Permno'] = final_df['Search Term'].apply(lambda term: firms_df.loc[firms_df.loc[(firms_df['regexes'] == str(term)) | (firms_df['names.firms.1'] == str(term))].index[0], 'permno'])\n",
    "    final_df['Firm Name'] = final_df['Search Term'].apply(lambda term: firms_df.loc[firms_df.loc[(firms_df['regexes'] == str(term)) | (firms_df['names.firms.1'] ==str(term))].index[0], 'names.firms'])\n",
    "    final_df['Date'] = final_df['URL'].apply(lambda url: url.split('/')[2].split('_')[1])\n",
    "    # final_df.to_csv('/projects/sebr8260/OutputRaw/Bloomberg/Bloomberg_2013_output.csv', index=False)\n",
    "    break"
   ]
  },
  {
   "cell_type": "code",
   "execution_count": null,
   "id": "2916a18f-9476-4497-97ee-e324cb898f47",
   "metadata": {},
   "outputs": [],
   "source": []
  }
 ],
 "metadata": {
  "kernelspec": {
   "display_name": "Python 3 (ipykernel)",
   "language": "python",
   "name": "python3"
  },
  "language_info": {
   "codemirror_mode": {
    "name": "ipython",
    "version": 3
   },
   "file_extension": ".py",
   "mimetype": "text/x-python",
   "name": "python",
   "nbconvert_exporter": "python",
   "pygments_lexer": "ipython3",
   "version": "3.9.12"
  }
 },
 "nbformat": 4,
 "nbformat_minor": 5
}
