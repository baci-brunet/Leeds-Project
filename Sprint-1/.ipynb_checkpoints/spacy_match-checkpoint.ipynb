{
 "cells": [
  {
   "cell_type": "code",
   "execution_count": 1,
   "id": "d8f7df52-e4e2-4532-92a5-edf789ba5f19",
   "metadata": {},
   "outputs": [],
   "source": [
    "import pandas as pd\n",
    "import numpy as np\n",
    "import re\n",
    "import collections\n",
    "import os\n",
    "import time"
   ]
  },
  {
   "cell_type": "markdown",
   "id": "e25f6948-9d49-4666-b111-9c33e6118f2b",
   "metadata": {},
   "source": [
    "**<span style=\"font-size:2em;\">Read in Cleaned Firm Name Data</span>**"
   ]
  },
  {
   "cell_type": "markdown",
   "id": "c8179aa9-6283-4161-a95c-1c66983d579a",
   "metadata": {},
   "source": [
    "**CRSP Firm Name Data (for testing)**"
   ]
  },
  {
   "cell_type": "code",
   "execution_count": 2,
   "id": "9f82f31d-a614-491e-bb03-4e7fd57c2db6",
   "metadata": {},
   "outputs": [],
   "source": [
    "firms_df = pd.read_excel('../Data/FirmNameData/cleaned_firms.xlsx')\n",
    "all_firms = [str(firm).lower() for firm in firms_df['Cleaned_Name'].tolist()]\n",
    "all_firms_og = [str(firm) for firm in firms_df['Name'].tolist()]"
   ]
  },
  {
   "cell_type": "markdown",
   "id": "142f813f-2910-4d53-9953-ce3375341387",
   "metadata": {},
   "source": [
    "**<span style=\"font-size:2em;\">Helper Functions</span>**"
   ]
  },
  {
   "cell_type": "markdown",
   "id": "cbcb06dd-b93a-42dc-94b0-9f35d7be77a8",
   "metadata": {},
   "source": [
    "**Function to Generate Tuples From Topic Data**"
   ]
  },
  {
   "cell_type": "code",
   "execution_count": 3,
   "id": "4a7fbb98-be0d-40c2-ad8f-20d2ac6b6394",
   "metadata": {},
   "outputs": [],
   "source": [
    "def generate_tuple(row):\n",
    "    list_of_tuples = []\n",
    "    for item in row:\n",
    "        for string in item.split():\n",
    "            if string.isnumeric():\n",
    "                # Take everything up to the number as a single string\n",
    "                list_of_tuples.append((item[:item.find(string) - 1], string)) # Create a tuple (Topic, Frequency)\n",
    "    return list_of_tuples"
   ]
  },
  {
   "cell_type": "markdown",
   "id": "7e9e4d89-4492-443b-a7af-863b0d0533fb",
   "metadata": {},
   "source": [
    "**Row-Wise Function that matches Spacy Organization to Firm (1 to 1)**"
   ]
  },
  {
   "cell_type": "code",
   "execution_count": 4,
   "id": "ba577605-f197-4b7e-bdfd-3bc15e6e1957",
   "metadata": {},
   "outputs": [],
   "source": [
    "def add_hits(row, firms):\n",
    "    org_hits = []\n",
    "    for org in row.split(';'):\n",
    "        if org.lower() in firms:\n",
    "            org_hits.append(org.lower())\n",
    "    if len(org_hits) >= 1:\n",
    "        return ', '.join(org_hits)\n",
    "    else: \n",
    "        return 'No Matches'"
   ]
  },
  {
   "cell_type": "code",
   "execution_count": 5,
   "id": "84d19433-4dfc-4456-97c1-aa2887cc3803",
   "metadata": {},
   "outputs": [],
   "source": [
    "def add_ogs(row, firms, firms_og):\n",
    "    org_hits = []\n",
    "    for org in row.split(','):\n",
    "        if org == 'No Matches':\n",
    "            return 'No Matches'\n",
    "        else:\n",
    "            org_hits.append('{} ({})'.format(org, firms_og[firms.index(org.lstrip())]))\n",
    "    return ', '.join(org_hits)"
   ]
  },
  {
   "cell_type": "markdown",
   "id": "3cade751-fd8a-4b3f-b8cf-e5c89b1c71ba",
   "metadata": {},
   "source": [
    "**<span style=\"font-size:2em;\">Create tuples of Corpora Files and Spacy Files</span>**"
   ]
  },
  {
   "cell_type": "markdown",
   "id": "283cf58d-79ff-47ac-bf37-e208a395ae86",
   "metadata": {},
   "source": [
    "**Define Path to Files**"
   ]
  },
  {
   "cell_type": "code",
   "execution_count": 6,
   "id": "242c8954-9810-412d-8359-56a05de525cf",
   "metadata": {},
   "outputs": [],
   "source": [
    "corpora_data = '../Data/CorporaData'\n",
    "meta_data = '../Data/MetaData'"
   ]
  },
  {
   "cell_type": "markdown",
   "id": "b0e8a000-5a64-43c8-aecf-c162a5ff03ee",
   "metadata": {},
   "source": [
    "**Iterate through Directories and Match Corresponding Files**"
   ]
  },
  {
   "cell_type": "code",
   "execution_count": 7,
   "id": "98b476dc-fa9a-43cd-8ae3-186013f3fab1",
   "metadata": {},
   "outputs": [],
   "source": [
    "file_tuples = []\n",
    "for folder in os.listdir(corpora_data):\n",
    "    if folder != '.DS_Store':\n",
    "        for corpora_file in os.listdir(os.path.join(corpora_data, folder)):\n",
    "            if corpora_file != '.DS_Store' and corpora_file != '.ipynb_checkpoints':\n",
    "                tv_corpora = os.path.join(corpora_data + '/' + folder, corpora_file)\n",
    "                network = tv_corpora.split('/')[4]\n",
    "                search_key = '.'.join((network.split('.')[0], network.split('.')[2]))\n",
    "                for meta_data_file in os.listdir(meta_data):\n",
    "                    if search_key in meta_data_file:\n",
    "                        file_tuples.append((search_key.replace('.', '_'), tv_corpora, os.path.join(meta_data, meta_data_file)))"
   ]
  },
  {
   "cell_type": "markdown",
   "id": "911f3b2e-cbd7-4b55-9149-95e5b5b4e292",
   "metadata": {},
   "source": [
    "**<span style=\"font-size:2em;\">Functions to Match Entities in Files</span>**  "
   ]
  },
  {
   "cell_type": "markdown",
   "id": "8dabfcac-9bf0-4c46-9477-65acaf54bf5d",
   "metadata": {},
   "source": [
    "**Function to Merge Spacy and Corpora Data**"
   ]
  },
  {
   "cell_type": "code",
   "execution_count": 8,
   "id": "7e59e88e-a7c7-4b1f-a814-93f70191cd41",
   "metadata": {},
   "outputs": [],
   "source": [
    "def merge(corpora, spacy):\n",
    "    # Format Dataframes\n",
    "    corpora.columns = ['URL', 'Title', 'RawText']\n",
    "    spacy.columns = ['Title', 'Organizations', 'Persons', 'Other']\n",
    "    # Grab topic and frequency and pass to generate_tuple()\n",
    "    corpora['Topics'] = corpora['RawText'].apply(\n",
    "        lambda text: str(text)[str(text).find('TOPICS: TOPIC FREQUENCY ') + len('TOPICS: TOPIC FREQUENCY '):].split('; '))\n",
    "    corpora['Topics'] = corpora['Topics'].apply(lambda text: generate_tuple(text))\n",
    "    # Clean Spacy NER Data\n",
    "    spacy['Organizations'] = spacy['Organizations'].apply(lambda org: re.sub('_', ' ', str(org)))\n",
    "    spacy['Persons'] = spacy['Persons'].apply(lambda per: re.sub('_', ' ', str(per)))\n",
    "    spacy['Other'] = spacy['Other'].apply(lambda oth: re.sub('_', ' ', str(oth)))\n",
    "    \n",
    "    return pd.merge(corpora, spacy, on='Title')"
   ]
  },
  {
   "cell_type": "markdown",
   "id": "d184d834-e47a-4921-a97f-a7e719c16393",
   "metadata": {},
   "source": [
    "**Match Data and Record**"
   ]
  },
  {
   "cell_type": "code",
   "execution_count": 9,
   "id": "c24173bb-64ef-411d-bf43-c1d18991fe4a",
   "metadata": {},
   "outputs": [],
   "source": [
    "def match(dataframe, year, working_dir, firms=all_firms):\n",
    "    final_df = pd.DataFrame(columns=['URL', 'Matched Organizations', 'Hits', 'Hits Frequency'])\n",
    "    final_df['URL'] = dataframe['URL']\n",
    "    # Match Data\n",
    "    final_df['Matched Organizations'] = dataframe['Organizations'].apply(lambda list_of_orgs: add_hits(list_of_orgs, all_firms))\n",
    "    final_df['Hits'] = final_df['Matched Organizations'].apply(lambda list_of_hits: add_ogs(list_of_hits, all_firms, all_firms_og))\n",
    "    # Compute Frequency for each entity\n",
    "    final_df['Hits Frequency'] = final_df['Hits'].apply(lambda hits: collections.Counter(hits[0].split(', ')))\n",
    "    # Save File\n",
    "    final_df.to_csv(working_dir + '/' + year + '_hits.csv', index=False)"
   ]
  },
  {
   "cell_type": "markdown",
   "id": "652786ff-4b70-47e5-8ce6-88ef2ad665a5",
   "metadata": {},
   "source": [
    "**Iterate through files and Call Necessary Functions**"
   ]
  },
  {
   "cell_type": "code",
   "execution_count": 10,
   "id": "97667c44-95e3-48f2-8315-bf13c549fcf8",
   "metadata": {},
   "outputs": [],
   "source": [
    "for tpl in file_tuples:\n",
    "    # Set up working directory\n",
    "    working_dir = '../Output/' + tpl[0].split('_')[0]\n",
    "    year = tpl[0].split('_')[1]\n",
    "    if not os.path.exists(working_dir):\n",
    "        os.mkdir(working_dir)\n",
    "    # Call functions\n",
    "    merged = merge(pd.read_csv(tpl[1]), pd.read_csv(tpl[2]))\n",
    "    stats = match(merged, year, working_dir)"
   ]
  },
  {
   "cell_type": "code",
   "execution_count": null,
   "id": "470109da-c656-423a-8599-9a73a49383be",
   "metadata": {},
   "outputs": [],
   "source": []
  }
 ],
 "metadata": {
  "kernelspec": {
   "display_name": "Python 3 (ipykernel)",
   "language": "python",
   "name": "python3"
  },
  "language_info": {
   "codemirror_mode": {
    "name": "ipython",
    "version": 3
   },
   "file_extension": ".py",
   "mimetype": "text/x-python",
   "name": "python",
   "nbconvert_exporter": "python",
   "pygments_lexer": "ipython3",
   "version": "3.9.9"
  }
 },
 "nbformat": 4,
 "nbformat_minor": 5
}
