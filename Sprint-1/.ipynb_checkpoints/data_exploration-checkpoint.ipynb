{
 "cells": [
  {
   "cell_type": "markdown",
   "id": "574d77ff-2823-4ffe-8a06-7401cdc96f47",
   "metadata": {},
   "source": [
    "**<span style=\"font-size:2em;\">Big picture goal</span>**  \n",
    "\n",
    "Identify when the TV shows are talking about a given company. At this point you may want to just start with the NER files and the CRSP company names, and/or with only the NER files. I would like some ideas on how to classify ALL the names that spaCy identifies as organizations (getting at company names is the most salient one, but \"White House\" and \"Fed\" and \"ECB\" and the such as very interesting as well!). I will ask you to work on the person NER items eventually, but one step at a time!"
   ]
  },
  {
   "cell_type": "markdown",
   "id": "75f69424-4575-4b89-99e5-bb940319504d",
   "metadata": {},
   "source": [
    "**Purpose: Create a sort of dictionary of aliases for each company listed in the list of firm names**\n",
    "\n",
    "- Cross reference spacey output from each TV shows firm name data to see how many match off the bat\n",
    "- Clean and search through RawText from TV show to double check spacey output and potentially consider n-grams\n",
    "- Create a tuple for each named entity that includes a timestamp in which named entity appears, TV show title, and named entity"
   ]
  },
  {
   "cell_type": "code",
   "execution_count": 1,
   "id": "0dce8ddd-183f-48d6-b3dd-8777c5a9037b",
   "metadata": {},
   "outputs": [],
   "source": [
    "import pandas as pd\n",
    "import numpy as np\n",
    "import re\n",
    "import string\n",
    "import time\n",
    "import collections"
   ]
  },
  {
   "cell_type": "markdown",
   "id": "04b91c90-2d40-495d-9d76-e570f8fe0621",
   "metadata": {},
   "source": [
    "**<span style=\"font-size:2em;\">Thoughts and Ideas to try</span>**\n",
    "\n",
    "- Entity matching accross Firm Names\n",
    "- Non Binary Matching\n",
    "- Entity Matching from firm names to Spacy Organization Output"
   ]
  },
  {
   "cell_type": "markdown",
   "id": "41ac7920-3ae2-4e1f-9790-4b4dc93745dd",
   "metadata": {},
   "source": [
    "**<span style=\"font-size:2em;\">Read in Data Files</span>**"
   ]
  },
  {
   "cell_type": "markdown",
   "id": "a4d9117f-fed1-47e1-8907-61505769e7b4",
   "metadata": {},
   "source": [
    "**TV Captions and Spacy Output**"
   ]
  },
  {
   "cell_type": "code",
   "execution_count": 2,
   "id": "b4885e2d-d20d-4ddc-bcf2-6816c4adae9b",
   "metadata": {},
   "outputs": [],
   "source": [
    "df_corpora = pd.read_csv('../../Data/CorporaData/2020/Bloomberg.Text.2020.1.csv')\n",
    "df_corpora.columns = ['URL', 'Title', 'RawText']\n",
    "\n",
    "df_spacy = pd.read_csv('../../Data/MetaData/Metadata.NERS.Bloomberg.2020.20210920.csv')\n",
    "df_spacy.columns = ['Title', 'Organizations', 'Persons', 'Other']"
   ]
  },
  {
   "cell_type": "markdown",
   "id": "7a6ecbad-701e-452a-96fb-b785a610d665",
   "metadata": {},
   "source": [
    "**Read in Firm Name Data**"
   ]
  },
  {
   "cell_type": "code",
   "execution_count": 3,
   "id": "c31a598e-0cd5-45fe-ad1c-e86e99178226",
   "metadata": {},
   "outputs": [],
   "source": [
    "# # Firm name data \n",
    "# df_firms_crsp = pd.read_csv('../Data/FirmNameData/firm.names.crsp.csv')\n",
    "# df_firms_earn = pd.read_csv('../Data/FirmNameData/firm.names.earnings.wsh.csv')\n",
    "# df_firms_execucomp = pd.read_csv('../Data/FirmNameData/firm.names.execucomp.csv')\n",
    "# df_firms_crsp.columns, df_firms_earn.columns, df_firms_execucomp.columns = ['Name'],['Name'],['Name']\n",
    "\n",
    "# # Firm name data from wiki (different format)\n",
    "# df_firms_wiki = pd.read_csv('../Data/FirmNameData/firm.names.wiki.csv')\n",
    "# df_firms_wiki.columns = ['Name', 'Ticker', 'Market', 'Website', 'Exchange']\n",
    "# df_firms_wiki_names = pd.DataFrame(df_firms_wiki.Name)\n",
    "\n",
    "# # Condense into one dataframe for ease of searching (size 21335)\n",
    "# df_firms = ((df_firms_crsp.append(df_firms_earn)).append(df_firms_execucomp)).append(df_firms_wiki_names)\n",
    "\n",
    "# # Remove duplicate entries\n",
    "# firms_with_duplicates = [firm.lower() for firm in df_firms['Name'].tolist()]\n",
    "# firms_no_duplicates = []\n",
    "# for firm in firms_with_duplicates:\n",
    "#     if firm not in firms_no_duplicates:\n",
    "#         firms_no_duplicates.append(firm)"
   ]
  },
  {
   "cell_type": "code",
   "execution_count": 4,
   "id": "2aebea36-1513-4a3f-bb3c-5adaf9dd9be1",
   "metadata": {},
   "outputs": [
    {
     "data": {
      "text/plain": [
       "'NASDAQ INC'"
      ]
     },
     "execution_count": 4,
     "metadata": {},
     "output_type": "execute_result"
    }
   ],
   "source": [
    "firms_df = pd.read_excel('../../Data/FirmNameData/cleaned_firms.xlsx')\n",
    "all_firms = [str(firm).lower() for firm in firms_df['Cleaned_Name'].tolist()]\n",
    "all_firms_og = [str(firm) for firm in firms_df['Name'].tolist()]\n",
    "\n",
    "ind = all_firms.index('nasdaq')\n",
    "\n",
    "all_firms_og[ind]"
   ]
  },
  {
   "cell_type": "markdown",
   "id": "bb772152-112d-43e5-8cf8-019dbc674314",
   "metadata": {},
   "source": [
    "**<span style=\"font-size:2em;\">Gather Topics Included in Text Segment</span>**"
   ]
  },
  {
   "cell_type": "markdown",
   "id": "0e373a66-8247-4f13-ab60-ec6beea15ae1",
   "metadata": {},
   "source": [
    "**Function to generate tuples from list of Topics**"
   ]
  },
  {
   "cell_type": "code",
   "execution_count": 5,
   "id": "8d4ed397-499a-4a3b-a8bf-612e227a6aac",
   "metadata": {},
   "outputs": [],
   "source": [
    "def generate_tuple(row):\n",
    "    list_of_tuples = []\n",
    "    for item in row:\n",
    "        for string in item.split():\n",
    "            if string.isnumeric():\n",
    "                # Take everything up to the numer as a single string\n",
    "                list_of_tuples.append((item[:item.find(string) - 1], string)) # Create a tuple (Entity, Frequency)\n",
    "    return list_of_tuples"
   ]
  },
  {
   "cell_type": "markdown",
   "id": "f1ffb498-4a0d-4e4f-8a37-b46754cb2684",
   "metadata": {},
   "source": [
    "**Generate list of Topics mentioned from the Raw Text and create tuples from them**"
   ]
  },
  {
   "cell_type": "code",
   "execution_count": 6,
   "id": "8499c7f4-9315-4aef-a7af-2d7900a0a205",
   "metadata": {},
   "outputs": [],
   "source": [
    "# Grab topic and frequency\n",
    "df_corpora['Topics'] = df_corpora['RawText'].apply(\n",
    "    lambda text: text[text.find('TOPICS: TOPIC FREQUENCY ') + len('TOPICS: TOPIC FREQUENCY '):].split('; '))\n",
    "\n",
    "# Create tuple from each\n",
    "df_corpora['Topics'] = df_corpora['Topics'].apply(lambda text: generate_tuple(text))"
   ]
  },
  {
   "cell_type": "markdown",
   "id": "2431c69a-9211-49e4-8a77-4576307523ae",
   "metadata": {},
   "source": [
    "**<span style=\"font-size:2em;\">Join Corpora Data with Spacy Output</span>**"
   ]
  },
  {
   "cell_type": "code",
   "execution_count": 7,
   "id": "8a00e94f-c196-41a8-87ef-bde8a85944ed",
   "metadata": {},
   "outputs": [],
   "source": [
    "#Make sure data sets match up\n",
    "merged_df = pd.merge(df_corpora, df_spacy, on='Title')"
   ]
  },
  {
   "cell_type": "markdown",
   "id": "895c0485-1397-4129-9d69-22b2e7c198a3",
   "metadata": {},
   "source": [
    "**<span style=\"font-size:2em;\">Clean and Process Spacy Data</span>**"
   ]
  },
  {
   "cell_type": "markdown",
   "id": "578fe0de-3299-469b-a138-d4ebb3b183f1",
   "metadata": {},
   "source": [
    "**Split the Spacy Output by underscore**"
   ]
  },
  {
   "cell_type": "code",
   "execution_count": 8,
   "id": "dd3fc443-8bc2-4eda-8bc6-fe8903a09104",
   "metadata": {},
   "outputs": [],
   "source": [
    "merged_df['Organizations'] = merged_df['Organizations'].apply(lambda org: re.sub('_', ' ', org))\n",
    "merged_df['Persons'] = merged_df['Persons'].apply(lambda per: re.sub('_', ' ', per))\n",
    "merged_df['Other'] = merged_df['Other'].apply(lambda oth: re.sub('_', ' ', oth))"
   ]
  },
  {
   "cell_type": "markdown",
   "id": "e38a0df5-56ff-4e37-b3ad-68d7c3501ff4",
   "metadata": {},
   "source": [
    "**<span style=\"font-size:2em;\">Cross Reference Spacy Data for TV Show with Firm Name Data</span>**"
   ]
  },
  {
   "cell_type": "markdown",
   "id": "84d00248-ca0a-4a46-8225-5ccc85a6440f",
   "metadata": {},
   "source": [
    "**Row-Wise Function that matches Spacy Organization to Firm (1 to 1)**"
   ]
  },
  {
   "cell_type": "code",
   "execution_count": 9,
   "id": "0c6f481d-6744-4b26-95a3-9bac43a61814",
   "metadata": {},
   "outputs": [],
   "source": [
    "def add_hits(row, firms):\n",
    "    org_hits = []\n",
    "    for org in row.split(';'):\n",
    "        if org.lower() in firms:\n",
    "            org_hits.append(org.lower())\n",
    "#         else: # No binary match in firm data (Horrible time complexity)\n",
    "#             for firm in all_firms:\n",
    "#                 if contains_word(org, firm):\n",
    "#                     print(firm, ';', org)\n",
    "#                     org_hits.append(firm)\n",
    "    if len(org_hits) >= 1:\n",
    "        return ', '.join(org_hits)\n",
    "    else: \n",
    "        return 'No Matches'"
   ]
  },
  {
   "cell_type": "code",
   "execution_count": 19,
   "id": "3304b966-f036-48f9-a8b7-a7dc97da2823",
   "metadata": {},
   "outputs": [],
   "source": [
    "def add_ogs(row, firms, firms_og):\n",
    "    org_hits = []\n",
    "    for org in row.split(','):\n",
    "        if org == 'No Matches':\n",
    "            return 'No Matches'\n",
    "        else:\n",
    "            org_hits.append('{} ({})'.format(org, firms_og[firms.index(org.lstrip())]))\n",
    "    return ', '.join(org_hits)"
   ]
  },
  {
   "cell_type": "markdown",
   "id": "2353d1b2-2a74-4049-b4f6-6c7222440ebd",
   "metadata": {},
   "source": [
    "**Add Matches to a New Column named 'Hits'**"
   ]
  },
  {
   "cell_type": "code",
   "execution_count": 11,
   "id": "56f83121-8bfd-4ddc-80ff-db0dc21a00ed",
   "metadata": {},
   "outputs": [
    {
     "name": "stdout",
     "output_type": "stream",
     "text": [
      "Took 11.890038013458252 seconds to match (1 to 1)\n"
     ]
    }
   ],
   "source": [
    "start = time.time()\n",
    "merged_df['Matched_Organizations'] = merged_df['Organizations'].apply(lambda list_of_orgs: add_hits(list_of_orgs, all_firms))   \n",
    "end = time.time()\n",
    "print('Took {} seconds to match (1 to 1)'.format(end - start))"
   ]
  },
  {
   "cell_type": "code",
   "execution_count": 20,
   "id": "333b716e-e096-43ad-be9a-fcbcb114ca08",
   "metadata": {},
   "outputs": [
    {
     "name": "stdout",
     "output_type": "stream",
     "text": [
      "0.40844273567199707\n"
     ]
    }
   ],
   "source": [
    "start = time.time()\n",
    "merged_df['Hits'] = merged_df['Matched_Organizations'].apply(lambda list_of_hits: add_ogs(list_of_hits, all_firms, all_firms_og))   \n",
    "end = time.time()\n",
    "print(end - start)"
   ]
  },
  {
   "cell_type": "markdown",
   "id": "e16af47e-c6e4-45ae-a96c-1bc249b116a0",
   "metadata": {},
   "source": [
    "**Percentage of the DataFrame that saw 'Hits'**  \n",
    "Note: With just a binary check we saw 62.17% (with a runtime of ~30 seconds)."
   ]
  },
  {
   "cell_type": "code",
   "execution_count": 21,
   "id": "d02f92e1-c081-45e1-9c98-bf78762af655",
   "metadata": {},
   "outputs": [
    {
     "name": "stdout",
     "output_type": "stream",
     "text": [
      "82.85%\n"
     ]
    }
   ],
   "source": [
    "print('{0:.2f}%'.format(len(merged_df.loc[merged_df['Hits'] != 'No Matches'])/len(merged_df) * 100))"
   ]
  },
  {
   "cell_type": "markdown",
   "id": "f145a278-cc6d-4426-9258-f3cee1330af9",
   "metadata": {},
   "source": [
    "**Creating mapping of word to frequency for 'Hits'**"
   ]
  },
  {
   "cell_type": "code",
   "execution_count": 22,
   "id": "a3bb13a5-aa86-40c9-832f-5d55a31928c8",
   "metadata": {},
   "outputs": [],
   "source": [
    "merged_df['Hits_Freq'] = merged_df['Hits'].apply(lambda hits: collections.Counter(hits.split(', ')))"
   ]
  },
  {
   "cell_type": "markdown",
   "id": "2550da6f-369c-4fa4-bfe3-2cc664be3ba4",
   "metadata": {},
   "source": [
    "**Select subset of the dataframe where there are 'Hits'**"
   ]
  },
  {
   "cell_type": "code",
   "execution_count": 15,
   "id": "2a4dddb7-67c7-4525-b204-49fa058e2bf9",
   "metadata": {},
   "outputs": [],
   "source": [
    "sample_df = merged_df.loc[merged_df['Matched_Organizations'] != 'No Matches'] # Subset of all records for which hits were recorded"
   ]
  },
  {
   "cell_type": "markdown",
   "id": "018a2bd9-81ae-4e79-8c67-da1917c3e1cb",
   "metadata": {},
   "source": [
    "**<span style=\"font-size:2em;\">Save New File to excel</span>**"
   ]
  },
  {
   "cell_type": "code",
   "execution_count": null,
   "id": "aacbb7ca-1af4-4eab-bd33-632fbed97043",
   "metadata": {},
   "outputs": [],
   "source": [
    "merged_df.to_excel('../../Output/corpora_with_hits.xlsx', index=False)"
   ]
  }
 ],
 "metadata": {
  "kernelspec": {
   "display_name": "Python 3 (ipykernel)",
   "language": "python",
   "name": "python3"
  },
  "language_info": {
   "codemirror_mode": {
    "name": "ipython",
    "version": 3
   },
   "file_extension": ".py",
   "mimetype": "text/x-python",
   "name": "python",
   "nbconvert_exporter": "python",
   "pygments_lexer": "ipython3",
   "version": "3.9.7"
  }
 },
 "nbformat": 4,
 "nbformat_minor": 5
}
