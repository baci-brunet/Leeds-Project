{
 "cells": [
  {
   "cell_type": "code",
   "execution_count": 1,
   "id": "fd870fbb-8321-42d8-92f1-e510efde90fc",
   "metadata": {},
   "outputs": [],
   "source": [
    "import pandas as pd\n",
    "import numpy as np\n",
    "import re\n",
    "import string\n",
    "import time\n",
    "import nltk\n",
    "import spacy\n",
    "from nltk.tokenize import word_tokenize\n",
    "from nltk.tag import pos_tag\n",
    "from nltk.corpus import stopwords\n",
    "# import stanfordnlp # Use command 'stanfordnlp.download('en')' once to be able to use the POS processer time (size: 1.96 GB)\n",
    "from spacy import displacy\n",
    "\n",
    "# Create a neural pipeline with stanford POS processer (will be used to upper case appropriate words for NER)\n",
    "# If you change the default dir, make sure you specify the working dir in the command below (if not you can leave it out)\n",
    "# stf_nlp = stanfordnlp.Pipeline(\n",
    "#     models_dir='/Users/baci/Documents/Fall 2021/CSCI 4308/Leeds Project/SNLP Resources', processors='tokenize,mwt,pos')\n",
    "\n",
    "# Load Spacy's Named Entity Recognition (add pipeline to merge entities)\n",
    "NER = spacy.load('en_core_web_sm')\n",
    "NER.add_pipe('merge_entities')\n",
    "\n",
    "# Cache stopword set so access is faster\n",
    "stop_words = set(stopwords.words('english'))"
   ]
  },
  {
   "cell_type": "markdown",
   "id": "a95ec62c-a6f3-44e8-8584-0a7e4d2cad14",
   "metadata": {},
   "source": [
    "**Read in Data Files**"
   ]
  },
  {
   "cell_type": "code",
   "execution_count": 4,
   "id": "ef245e40-8b43-409d-b938-1d2700f91603",
   "metadata": {},
   "outputs": [],
   "source": [
    "# Raw TV Show closed captioning text\n",
    "df_corpora = pd.read_csv('../../Data/CorporaData/2012/CNBC.Text.2012.1.csv')\n",
    "df_corpora.columns = ['URL', 'Title', 'RawText']"
   ]
  },
  {
   "cell_type": "markdown",
   "id": "bba7af31-5f39-44fa-9573-010723cf5738",
   "metadata": {},
   "source": [
    "**Functions To Truecase Words In The Text**"
   ]
  },
  {
   "cell_type": "code",
   "execution_count": 51,
   "id": "1c077d45-e5e0-477e-98b4-69025255d72b",
   "metadata": {},
   "outputs": [],
   "source": [
    "# True case text using stanfordnlpp POS processor (not used yet)\n",
    "def truecase_snlp(row):\n",
    "    captions = stf_nlp(row)\n",
    "    truecase = ' '.join(w.text.capitalize() if w.upos in [\"PROPN\",\"NNS\"] else w.text for sent in captions.sentences for w in sent.words)\n",
    "    return truecase\n",
    "\n",
    "# True case text using nltk POS tagger\n",
    "def truecase_nltk(row):\n",
    "    words = nltk.word_tokenize(row)\n",
    "    tagged_words = nltk.pos_tag([word.lower() for word in words])\n",
    "    capitalized_words = [w.capitalize() if t in [\"NN\",\"NNS\"] else w for (w,t) in tagged_words] # Capitalize based on POS tags\n",
    "    capitalized_words[0] = capitalized_words[0].capitalize() # Capitalize first word in sentence\n",
    "    return re.sub(\" (?=[\\.,'!?:;])\", \"\", ' '.join(capitalized_words))"
   ]
  },
  {
   "cell_type": "markdown",
   "id": "051d98a7-9048-4021-909e-acf0721692b5",
   "metadata": {},
   "source": [
    "**<span style=\"font-size:2em;\">Gather Topics Included in Text Segment</span>**"
   ]
  },
  {
   "cell_type": "markdown",
   "id": "365e4ee5-ca29-4d97-bcb7-55249a46f3bc",
   "metadata": {},
   "source": [
    "**Function to generate tuples from list of Topics**"
   ]
  },
  {
   "cell_type": "code",
   "execution_count": 52,
   "id": "597492ea-ca0e-4842-9ded-04d81ba7af14",
   "metadata": {},
   "outputs": [],
   "source": [
    "def generate_tuple(row):\n",
    "    list_of_tuples = []\n",
    "    for item in row:\n",
    "        for string in item.split():\n",
    "            if string.isnumeric():\n",
    "                # Take everything up to the numer as a single string\n",
    "                list_of_tuples.append((item[:item.find(string) - 1], string)) # Create a tuple (Entity, Frequency)\n",
    "    return list_of_tuples"
   ]
  },
  {
   "cell_type": "markdown",
   "id": "d37a978f-dd62-4db2-b1f6-08152bc8f22d",
   "metadata": {},
   "source": [
    "**Generate list of Topics mentioned from the Raw Text and create tuples from them**"
   ]
  },
  {
   "cell_type": "code",
   "execution_count": 53,
   "id": "3eb58f88-634b-4386-a7e8-3cbd3081c515",
   "metadata": {},
   "outputs": [],
   "source": [
    "# Grab topic and frequency\n",
    "df_corpora['Topics'] = df_corpora['RawText'].apply(\n",
    "    lambda text: text[text.find('TOPICS: TOPIC FREQUENCY ') + len('TOPICS: TOPIC FREQUENCY '):].split('; '))\n",
    "\n",
    "# Create tuple from each\n",
    "df_corpora['Topics'] = df_corpora['Topics'].apply(lambda text: generate_tuple(text))"
   ]
  },
  {
   "cell_type": "markdown",
   "id": "992181f5-53df-4604-b5b8-95d45cf9de76",
   "metadata": {},
   "source": [
    "**<span style=\"font-size:2em;\">Preprocessing and Cleaning (for Spacy)</span>**"
   ]
  },
  {
   "cell_type": "markdown",
   "id": "d805c59f-827d-45af-98eb-2c05a01d51f3",
   "metadata": {},
   "source": [
    "**Remove Title and HTML Tags**"
   ]
  },
  {
   "cell_type": "code",
   "execution_count": null,
   "id": "7e6ba45a-51a5-4d79-b1d4-0ee7d36fd9ea",
   "metadata": {},
   "outputs": [],
   "source": [
    "# Remove title (function: removes everything before and including [[TITLE.END]])\n",
    "df['RawText_preprocessed'] = df['RawText'].apply(\n",
    "    lambda text: text[text.find('[[TITLE.END]] ') + len('[[TITLE.END]] '):])   \n",
    "\n",
    "# Strip html using regex\n",
    "df['RawText_preprocessed'] = df['RawText_preprocessed'].apply(\n",
    "    lambda text: ' '.join(re.sub('<[^<]+?>', '', word) for word in text.split()))"
   ]
  },
  {
   "cell_type": "markdown",
   "id": "1fd38088-e250-4da2-8c26-420b557bd126",
   "metadata": {},
   "source": [
    "**True Case Text to improve accuracy in Spacy's NER (stanfordnlp)**  \n",
    "Purpose: Spacy's NER does not recognize lower cased entities as well (Run before removing punctuation)"
   ]
  },
  {
   "cell_type": "code",
   "execution_count": 55,
   "id": "42821df6-ec50-4704-b8f8-bfad7d3cf496",
   "metadata": {},
   "outputs": [],
   "source": [
    "# start = time.time()\n",
    "# df_corpora['RawText_Preprocessed'] = df_corpora['RawText_Preprocessed'].apply(\n",
    "#     lambda text: truecase_snlp(text))\n",
    "# end = time.time()\n",
    "# print('Time taken to run snlp POS processor on text: {} seconds'.format(end - start))"
   ]
  },
  {
   "cell_type": "markdown",
   "id": "6c51b752-041e-4135-ab94-f9b6c7e808a1",
   "metadata": {},
   "source": [
    "**True Case Text (nltk)**"
   ]
  },
  {
   "cell_type": "code",
   "execution_count": 56,
   "id": "2f998e8f-6804-46a2-9d62-3b2d2cddfce3",
   "metadata": {},
   "outputs": [
    {
     "name": "stdout",
     "output_type": "stream",
     "text": [
      "Time taken to run nltk POS tagger on text: 149.37974905967712 seconds\n"
     ]
    }
   ],
   "source": [
    "start = time.time()\n",
    "df_corpora['RawText_Preprocessed'] = df_corpora['RawText_Preprocessed'].apply(\n",
    "    lambda text: truecase_nltk(text))\n",
    "end = time.time()\n",
    "print('Time taken to run nltk POS tagger on text: {} seconds'.format(end - start))"
   ]
  },
  {
   "cell_type": "markdown",
   "id": "f1e63736-c00b-4575-803d-96d3b34f03d1",
   "metadata": {},
   "source": [
    "**Remove Punctuation and Stopwords**"
   ]
  },
  {
   "cell_type": "code",
   "execution_count": null,
   "id": "d2bd04ff-e909-4fef-9c11-80c950bfe677",
   "metadata": {},
   "outputs": [],
   "source": [
    "# Define which punctuation to remove so as to not mess with timestamps yet (i.e. dont remove brackets or colons)\n",
    "punctuation = '''(){};'\"\\,<>/@#%^&*_~'''\n",
    "# May or may not use this depending on whether or not it affects spacy NER accuracy\n",
    "df['RawText_preprocessed'] = df['RawText_preprocessed'].apply(\n",
    "    lambda text: ' '.join(word.translate(str.maketrans('', '', punctuation)) for word in text.split()))   \n",
    "\n",
    "# Remove stopwords\n",
    "df['RawText_preprocessed'] = df['RawText_preprocessed'].apply(\n",
    "    lambda text: ' '.join(word for word in text.split() if word.lower() not in stop_words or word in ['am']))"
   ]
  },
  {
   "cell_type": "markdown",
   "id": "71a9365e-65f2-4532-a0b6-fc710ffeccc6",
   "metadata": {},
   "source": [
    "**<span style=\"font-size:2em;\">Spacy Named Entity Recognition</span>**"
   ]
  },
  {
   "cell_type": "markdown",
   "id": "3effbec1-3263-4fc8-b6a9-4da830d820e7",
   "metadata": {},
   "source": [
    "**Generating Spacy Named Entity Recognition Output (with merged entities)**"
   ]
  },
  {
   "cell_type": "code",
   "execution_count": 58,
   "id": "a1a6b97a-dbb3-4b7e-ad6b-f1716846f339",
   "metadata": {},
   "outputs": [
    {
     "name": "stdout",
     "output_type": "stream",
     "text": [
      "Time to detect spacy entities: 1324.9350650310516 seconds\n"
     ]
    }
   ],
   "source": [
    "start = time.time()\n",
    "df_corpora['Spacy_Entities'] = df_corpora['RawText_Preprocessed'].apply(\n",
    "    lambda text: [(entity.text, entity.label_) for entity in NER(text).ents])\n",
    "end = time.time()\n",
    "print('Time to detect spacy entities: {} seconds'.format(end - start))"
   ]
  },
  {
   "cell_type": "markdown",
   "id": "a8082e0a-7097-4a21-9cf6-b3341d55010d",
   "metadata": {},
   "source": [
    "**Organizing Spacy Output**"
   ]
  },
  {
   "cell_type": "code",
   "execution_count": 59,
   "id": "dfb1b717-b835-4740-be83-fc8d86ed2c7f",
   "metadata": {},
   "outputs": [],
   "source": [
    "# With Merged Entities\n",
    "df_corpora['NER_Organizations'] = df_corpora['Spacy_Entities'].apply(\n",
    "    lambda output: [tpl[0] for tpl in output if tpl[1] == 'ORG'])\n",
    "\n",
    "df_corpora['NER_Persons'] = df_corpora['Spacy_Entities'].apply(\n",
    "    lambda output: [tpl[0] for tpl in output if tpl[1] == 'PERSON'])\n",
    "\n",
    "df_corpora['NER_Other'] = df_corpora['Spacy_Entities'].apply(\n",
    "    lambda output: [tpl[0] for tpl in output if tpl[1] not in ['PERSON', 'ORG']])"
   ]
  },
  {
   "cell_type": "markdown",
   "id": "f7555ff7-804e-46bb-999e-a6ea2a7e5818",
   "metadata": {},
   "source": [
    "**<span style=\"font-size:2em;\">Save Condensed Dataframe To CSV</span>**"
   ]
  },
  {
   "cell_type": "code",
   "execution_count": 60,
   "id": "2b177daf-4c4b-4e55-b5d6-56770e24032b",
   "metadata": {},
   "outputs": [],
   "source": [
    "df_corpora.to_csv('../../Data/CleanData/Clean.Bloomberg.Text.2021.1.csv', index=False)"
   ]
  },
  {
   "cell_type": "code",
   "execution_count": null,
   "id": "25cfe907-71cc-4217-89fe-c1cd74c06009",
   "metadata": {},
   "outputs": [],
   "source": []
  }
 ],
 "metadata": {
  "kernelspec": {
   "display_name": "Python 3 (ipykernel)",
   "language": "python",
   "name": "python3"
  },
  "language_info": {
   "codemirror_mode": {
    "name": "ipython",
    "version": 3
   },
   "file_extension": ".py",
   "mimetype": "text/x-python",
   "name": "python",
   "nbconvert_exporter": "python",
   "pygments_lexer": "ipython3",
   "version": "3.9.9"
  }
 },
 "nbformat": 4,
 "nbformat_minor": 5
}
