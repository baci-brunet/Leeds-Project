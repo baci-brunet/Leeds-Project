{
 "cells": [
  {
   "cell_type": "code",
   "execution_count": 7,
   "id": "932a472c-8cf0-4e07-965b-cd76541e0495",
   "metadata": {},
   "outputs": [],
   "source": [
    "import pandas as pd\n",
    "import numpy as np\n",
    "import sys\n",
    "import os"
   ]
  },
  {
   "cell_type": "code",
   "execution_count": 8,
   "id": "6d780403-e00d-4d7f-99d5-4d609147bf6e",
   "metadata": {},
   "outputs": [],
   "source": [
    "data = '../../Output'\n",
    "          \n",
    "files = []\n",
    "for folder in os.listdir(data):\n",
    "    if folder != '.ipynb_checkpoints' and folder != 'OutputStats.txt' and folder != 'FirmNameStats.txt':\n",
    "        for file in os.listdir(os.path.join(data, folder)):\n",
    "            files.append((pd.read_csv(os.path.join(os.path.join(data, folder), file)), folder + '/' + file))"
   ]
  },
  {
   "cell_type": "code",
   "execution_count": 9,
   "id": "0d9eb3af-465c-4497-b9cd-d5fca6bbc238",
   "metadata": {},
   "outputs": [],
   "source": [
    "firms_df = pd.read_excel('../Data/FirmNameData/cleaned_firms.xlsx')\n",
    "all_firms = [str(firm).lower() for firm in firms_df['Name'].tolist()]"
   ]
  },
  {
   "cell_type": "code",
   "execution_count": 10,
   "id": "2c527e08-12f7-4159-a699-d6b1802750cb",
   "metadata": {},
   "outputs": [],
   "source": [
    "lop = []\n",
    "for f in files:\n",
    "    loe = []\n",
    "    count = 0\n",
    "    for ent in f[0]['Hits']:\n",
    "        for e in str(ent).split(','):\n",
    "            if e.lstrip() not in loe:\n",
    "                loe.append(e.lstrip())\n",
    "    for fi in all_firms:\n",
    "        if fi in loe:\n",
    "            count += 1\n",
    "    lop.append(int(count/len(all_firms) * 100))\n",
    "\n",
    "# Stats dictionary\n",
    "stats_dict = {}\n",
    "for f in files:\n",
    "    stats_dict[f[1].split('/')[0]] = {'Percentage of text entries that had >= 1 hit': 0, 'Percentage of crsp firms hit': 0}\n",
    "\n",
    "record = open('../../Output/OutputStats.txt', 'w')\n",
    "i = 0\n",
    "record.write('-------------------------------MATCH DATA FOR EACH FILE-------------------------------\\n \\n')\n",
    "for f in files:\n",
    "    p_hits = int(len(f[0].loc[f[0]['Hits'] != 'No Hits'])/len(f[0]) * 100)\n",
    "    record.write('File: {}, \\nPercentage of text entries that had >= 1 hit: ~{}%, \\nPercentage of crsp firms hit: {}% \\n \\n'.format(\n",
    "         f[1], p_hits, lop[i]))\n",
    "    stats_dict[f[1].split('/')[0]]['Percentage of text entries that had >= 1 hit'] += p_hits\n",
    "    stats_dict[f[1].split('/')[0]]['Percentage of crsp firms hit'] += lop[i]\n",
    "    i += 1\n",
    "record.close()"
   ]
  },
  {
   "cell_type": "code",
   "execution_count": 11,
   "id": "dde694a6-999c-4a20-9f55-f5f72cce3714",
   "metadata": {},
   "outputs": [],
   "source": [
    "r = open('../../Output/OutputStats.txt', 'a')\n",
    "r.write('-------------------------------AVERAGES FOR EACH FOLDER-------------------------------\\n \\n')\n",
    "for key, val in stats_dict.items():\n",
    "    r.write('Media Network: {} \\n'.format(key))\n",
    "    for k, v in val.items():\n",
    "        r.write('{}: {}% \\n'.format(k, int(v/9)))\n",
    "    r.write('\\n')\n",
    "r.close()"
   ]
  },
  {
   "cell_type": "code",
   "execution_count": 14,
   "id": "0029f72c-f3da-4b81-b283-a1df47a24c19",
   "metadata": {},
   "outputs": [],
   "source": [
    "f_file = open('../../Output/FirmNameStats.txt', 'w')\n",
    "ulon = []\n",
    "for f in files:\n",
    "    for ent in f[0]['Hits']:\n",
    "        for e in str(ent).split(', '):\n",
    "            if e.lstrip() not in ulon:\n",
    "                ulon.append(e.lstrip())\n",
    "f_file.write('-------------------------------UNIQUE FIRM NAMES-------------------------------\\n \\n')\n",
    "f_file.write(', '.join(ulon))\n",
    "f_file.write('-------------------------------PERCENTAGE OF CRSP-------------------------------\\n \\n')\n",
    "f_file.write('Percentage of crsp firms matched: {}%'.format((len(ulon)/len(all_firms)) * 100))\n",
    "f_file.close()"
   ]
  },
  {
   "cell_type": "code",
   "execution_count": null,
   "id": "2ca31004-3392-4fe0-82a5-3dcdec320451",
   "metadata": {},
   "outputs": [],
   "source": []
  }
 ],
 "metadata": {
  "kernelspec": {
   "display_name": "Python 3 (ipykernel)",
   "language": "python",
   "name": "python3"
  },
  "language_info": {
   "codemirror_mode": {
    "name": "ipython",
    "version": 3
   },
   "file_extension": ".py",
   "mimetype": "text/x-python",
   "name": "python",
   "nbconvert_exporter": "python",
   "pygments_lexer": "ipython3",
   "version": "3.9.9"
  }
 },
 "nbformat": 4,
 "nbformat_minor": 5
}
