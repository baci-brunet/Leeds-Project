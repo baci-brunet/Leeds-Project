{
 "cells": [
  {
   "cell_type": "code",
   "execution_count": 1,
   "id": "021b5a02-1775-4305-b4de-9ce25ee5e935",
   "metadata": {},
   "outputs": [],
   "source": [
    "import pandas as pd\n",
    "import numpy as np\n",
    "import os\n",
    "import datetime as dt\n",
    "import re\n",
    "import string\n",
    "import collections\n",
    "from os.path import exists\n",
    "import time\n",
    "pd.set_option('display.max_rows', 500)\n",
    "\n",
    "translator = str.maketrans(string.punctuation, ' '*len(string.punctuation))"
   ]
  },
  {
   "cell_type": "code",
   "execution_count": 3,
   "id": "024285dd-936c-45e6-bcc9-9b03917e2b25",
   "metadata": {},
   "outputs": [],
   "source": [
    "# path = '../Data/CorporaData'\n",
    "# raw = '../OutputRaw'"
   ]
  },
  {
   "cell_type": "code",
   "execution_count": 4,
   "id": "c1b4f727-37dd-4087-8825-c5e3595276e9",
   "metadata": {},
   "outputs": [],
   "source": [
    "# files = []\n",
    "# for folder in os.listdir(path):    \n",
    "#     if folder != '.DS_Store' and folder != '.ipynb_checkpoints':\n",
    "#         for file in os.listdir(os.path.join(path, folder)):\n",
    "#             if file != '.ipynb_checkpoints':\n",
    "#                 search_key = '{}_{}'.format(file.split('.')[0], file.split('.')[2])\n",
    "#                 for raw_folder in os.listdir(raw):\n",
    "#                     if raw_folder != '.DS_Store' and raw_folder != '.ipynb_checkpoints':\n",
    "#                         for raw_file in os.listdir(os.path.join(raw, raw_folder)):\n",
    "#                             if raw_file != '.ipynb_checkpoints':\n",
    "#                                 if search_key == '{}_{}'.format(raw_file.split('_')[0], raw_file.split('_')[1]):\n",
    "#                                     files.append((os.path.join(path, os.path.join(folder, file)), os.path.join(raw, os.path.join(raw_folder, raw_file))))"
   ]
  },
  {
   "cell_type": "code",
   "execution_count": 5,
   "id": "bfafba35-43bf-4ffa-bde1-1916ab1c1f1a",
   "metadata": {},
   "outputs": [],
   "source": [
    "# dataframes = []\n",
    "# for tpl in files:\n",
    "#     if exists('../OutputRawText/{}/{}'.format(tpl[1].split('/')[2], tpl[1].split('/')[3])):\n",
    "#         continue\n",
    "#     else:\n",
    "#         start = time.time()\n",
    "#         output_raw = pd.read_csv(tpl[1])\n",
    "#         corpora = pd.read_csv(tpl[0])\n",
    "#         corpora.columns = ['URL', 'Title', 'RawText']\n",
    "#         merged = pd.merge(output_raw, corpora, on='URL')\n",
    "#         merged['RawText_preprocessed'] = merged['RawText'].apply(lambda text: str(text).split('TOPICS: TOPIC FREQUENCY ')[0])\n",
    "#         merged['RawText_preprocessed'] = merged['RawText_preprocessed'].apply(lambda text: str(text)[str(text).find('[[TITLE.END]] ') + len('[[TITLE.END]] '):])   \n",
    "#         merged['RawText_preprocessed'] = merged['RawText_preprocessed'].apply(lambda text: ' '.join(re.sub('<[^<]+?>', '', word) for word in text.split()))   \n",
    "#         merged['RawText_preprocessed'] = merged['RawText_preprocessed'].apply(lambda text: text.translate(translator)) \n",
    "#         dataframes.append((tpl[1], merged))\n",
    "#         merged.to_csv('../OutputRawText/{}/{}'.format(tpl[1].split('/')[2], tpl[1].split('/')[3]), index=False)\n",
    "#         end = time.time()\n",
    "#         print('File {} done in {} seconds'.format(tpl[0], end-start))"
   ]
  },
  {
   "cell_type": "code",
   "execution_count": 6,
   "id": "77d57517-de27-4d8b-a474-9eb29a1588d0",
   "metadata": {},
   "outputs": [],
   "source": [
    "path = '../OutputRaw2'"
   ]
  },
  {
   "cell_type": "code",
   "execution_count": 7,
   "id": "f3623a3d-96d5-4139-88de-5e38001251cb",
   "metadata": {},
   "outputs": [],
   "source": [
    "files = []\n",
    "for folder in os.listdir(path):    \n",
    "    if folder != '.DS_Store' and folder != '.ipynb_checkpoints':\n",
    "        for file in os.listdir(os.path.join(path, folder)):\n",
    "            if file != '.ipynb_checkpoints':\n",
    "                files.append(os.path.join(path, os.path.join(folder, file)))"
   ]
  },
  {
   "cell_type": "code",
   "execution_count": 8,
   "id": "6c615fe1-3115-4c81-af01-11b3c194163d",
   "metadata": {},
   "outputs": [],
   "source": [
    "# for merged in files:\n",
    "#     df = pd.read_csv(merged)\n",
    "#     start = time.time()\n",
    "#     df['Matched Firms'] = None\n",
    "#     for i in range(len(df.index)):\n",
    "#         loi = []\n",
    "#         if str(df.loc[i, 'Hits']) != 'No Hits':\n",
    "#             for firm in df.loc[i, 'Hits'].split(', '):\n",
    "#                 og = firm.split('(')[1].replace(')', '').strip()\n",
    "#                 for segment in str(df.loc[i, 'RawText_preprocessed']).split('TIME START'):\n",
    "#                     if ' {} '.format(firm.split('(')[0].strip()) in segment.lower():\n",
    "#                         loi.append((firm.split('(')[0].strip(), segment.split('TIME END')[0].strip(), og))\n",
    "#         df.loc[i, 'Matched Firms'] = ', '.join(['{}/{}/{}'.format(tpl[0], tpl[1], tpl[2]) for tpl in loi])\n",
    "#     del df['Matched Organizations']\n",
    "#     del df['Hits']\n",
    "#     del df['Hits Frequency']\n",
    "#     del df['Validated']\n",
    "#     df.to_csv(merged, index=False)\n",
    "#     end = time.time()\n",
    "#     print('Time Taken to finish {}: {} seconds'.format(merged, end-start))"
   ]
  },
  {
   "cell_type": "code",
   "execution_count": 9,
   "id": "342f5d19-6919-4275-a7db-e4a0ae0e5cf6",
   "metadata": {},
   "outputs": [],
   "source": [
    "# dfs = []\n",
    "# for file in files:\n",
    "#     df = pd.read_csv(file)\n",
    "#     df['Hits Frequency'] = None\n",
    "#     for i in range(len(df.index)):\n",
    "#         loi = []\n",
    "#         if df.loc[i, 'Matched Firms'] != 'No Hits':\n",
    "#             for firm_name in str(df.loc[i, 'Matched Firms']).split(', '):\n",
    "#                 if firm_name != 'nan':\n",
    "#                     try:\n",
    "#                         loi.append((firm_name.split('/')[0], firm_name.split('/')[2]))\n",
    "#                     except:\n",
    "#                         print(type(firm_name))\n",
    "#         else:\n",
    "#             continue\n",
    "#         df.loc[i, 'Hits Frequency'] = ', '.join('{}: {}'.format(str(k).replace(\"'\", ''), v) for k,v in collections.Counter(loi).items())\n",
    "#     df.to_csv(file, index=False)"
   ]
  },
  {
   "cell_type": "code",
   "execution_count": 14,
   "id": "6c81baae-c3e7-4bc5-8bf7-044288fcc42a",
   "metadata": {},
   "outputs": [
    {
     "name": "stdout",
     "output_type": "stream",
     "text": [
      "File ../OutputRaw/Bloomberg/Bloomberg_2016_hits.csv took 7.923048973083496 seconds\n",
      "File ../OutputRaw/Bloomberg/Bloomberg_2017_hits.csv took 7.900598049163818 seconds\n",
      "File ../OutputRaw/Bloomberg/Bloomberg_2013_hits.csv took 7.846573114395142 seconds\n",
      "File ../OutputRaw/Bloomberg/Bloomberg_2018_hits.csv took 7.928839206695557 seconds\n",
      "File ../OutputRaw/Bloomberg/Bloomberg_2019_hits.csv took 7.8592588901519775 seconds\n",
      "File ../OutputRaw/Bloomberg/Bloomberg_2015_hits.csv took 7.952701091766357 seconds\n",
      "File ../OutputRaw/Bloomberg/Bloomberg_2014_hits.csv took 7.944279909133911 seconds\n",
      "File ../OutputRaw/Bloomberg/Bloomberg_2020_hits.csv took 7.939279079437256 seconds\n"
     ]
    }
   ],
   "source": [
    "final_dataframes = []\n",
    "for file in files:\n",
    "    if file.split('/')[2] == 'Bloomberg':\n",
    "        start=time.time()\n",
    "        if exists('../OutputRawFormatted/{}/{}'.format(file.split('/')[2], file.split('/')[3])):\n",
    "            continue\n",
    "        else:\n",
    "            df = pd.read_csv(files[0])\n",
    "            lot = []\n",
    "            for i in range(len(df.index)):\n",
    "                if df.loc[i, 'Matched Firms'] != 'No Hits':\n",
    "                    for firm_name in str(df.loc[i, 'Matched Firms']).split(', '):\n",
    "                        if firm_name != 'nan':\n",
    "                            key = '/'.join(firm_name.split('/')[1:2])\n",
    "                            lot.append((df.loc[i, 'URL'],\n",
    "                                        df.loc[i, 'Date'],\n",
    "                                        df.loc[i, 'Title'],\n",
    "                                        firm_name.split('/')[0], \n",
    "                                        firm_name.split('/')[1], \n",
    "                                        firm_name.split('/')[2],\n",
    "                                        df.loc[i, 'Context Window'],\n",
    "                                        df.loc[i, 'Hits Frequency'],\n",
    "                                        df.loc[i, 'Matched Firms'].count(key)\n",
    "                                       ))\n",
    "                else:\n",
    "                    continue\n",
    "\n",
    "            final_df = pd.DataFrame(lot, columns = ['URL', 'Date', 'Title', 'Search Term', 'Time', 'Firm Name', 'Context Window', 'Hits Frequency', 'Frequency'])\n",
    "            final_df['Time'] = final_df['Time'].apply(lambda t: '{}:{} {}'.format(t.split()[0], t.split()[1], t.split()[2])) \n",
    "            final_dataframes.append(final_df)\n",
    "            end=time.time()\n",
    "            print('File {} took {} seconds'.format(file, end-start))"
   ]
  },
  {
   "cell_type": "code",
   "execution_count": 18,
   "id": "9c6c8b95-492c-450b-90fa-94f5c08f4b70",
   "metadata": {},
   "outputs": [
    {
     "data": {
      "text/plain": [
       "'(audience, AUDIENCE INC): 1, (facebook, FACEBOOK INC): 1, (west, WEST CORP): 1, (twitter, TWITTER INC): 1, (now, NOW INC): 22, (joint, JOINT CORP): 1, (box, BOX INC): 1, (planet fitness, PLANET FITNESS INC): 1, (square, SQUARE INC): 24, (line, LINE CORP): 3, (snap, SNAP INC): 1, (best, BEST INC): 13, (southern, SOUTHERN CO): 1, (fox, FOX CORP): 11, (dow, DOW INC): 2, (health, S C HEALTH CORP): 1, (courier, COURIER CORP): 1, (eastern, EASTERN CO): 1, (energy, NV ENERGY INC): 1, (ball, BALL CORP): 2, (unit, UNIT CORP): 1, (team, TEAM INC): 1, (pool, POOL CORP): 3, (waters, WATERS CORP): 2, (guess, GUESS INC): 3, (aware, AWARE INC): 1, (orange, ORANGE): 1, (sleep number, SLEEP NUMBER CORP): 1, (move, MOVE INC): 1, (netflix, NETFLIX INC): 1'"
      ]
     },
     "execution_count": 18,
     "metadata": {},
     "output_type": "execute_result"
    }
   ],
   "source": [
    "final_dataframes[0]['Hits Frequency'][0]"
   ]
  },
  {
   "cell_type": "code",
   "execution_count": 19,
   "id": "d6c19f81-9787-4eb8-aaa7-d27e534792ef",
   "metadata": {},
   "outputs": [
    {
     "data": {
      "text/plain": [
       "2"
      ]
     },
     "execution_count": 19,
     "metadata": {},
     "output_type": "execute_result"
    }
   ],
   "source": [
    "final_dataframes[0]['Frequency'][0]"
   ]
  },
  {
   "cell_type": "code",
   "execution_count": 21,
   "id": "238fb5af-94b8-4a95-b2da-79df01b09cba",
   "metadata": {},
   "outputs": [
    {
     "name": "stdout",
     "output_type": "stream",
     "text": [
      "1\n"
     ]
    }
   ],
   "source": [
    "if ' now ' in 'I am now coming around now to do it now':\n",
    "    print('1')"
   ]
  },
  {
   "cell_type": "code",
   "execution_count": null,
   "id": "dc65c399-6ba4-41a5-a6aa-04b76a1571b4",
   "metadata": {},
   "outputs": [],
   "source": [
    "for df in final_dataframes:\n",
    "    ot = []\n",
    "    for i in range(len(df.index)):\n",
    "        for item in df.loc[i, 'Hits Frequency'].split('('):\n",
    "            if not item:\n",
    "                continue\n",
    "            else:\n",
    "                key = item.split(', ')[0]\n",
    "                if key == df.loc[i, 'Search Term']:\n",
    "                    try:\n",
    "                        df.loc[i, 'Hits Frequency'] = item.split(', ')[1].split(': ')[1]\n",
    "                    except:\n",
    "                        print(item, i)\n",
    "    print(df['Hits Frequency'][0])\n",
    "    break"
   ]
  },
  {
   "cell_type": "code",
   "execution_count": null,
   "id": "5c3515d9-5406-4bc2-9ff9-47c1b50b1703",
   "metadata": {},
   "outputs": [],
   "source": []
  },
  {
   "cell_type": "code",
   "execution_count": null,
   "id": "b6df0d43-18ed-4954-a7ce-65d0247d8b91",
   "metadata": {},
   "outputs": [],
   "source": []
  }
 ],
 "metadata": {
  "kernelspec": {
   "display_name": "Python 3 (ipykernel)",
   "language": "python",
   "name": "python3"
  },
  "language_info": {
   "codemirror_mode": {
    "name": "ipython",
    "version": 3
   },
   "file_extension": ".py",
   "mimetype": "text/x-python",
   "name": "python",
   "nbconvert_exporter": "python",
   "pygments_lexer": "ipython3",
   "version": "3.9.12"
  }
 },
 "nbformat": 4,
 "nbformat_minor": 5
}
