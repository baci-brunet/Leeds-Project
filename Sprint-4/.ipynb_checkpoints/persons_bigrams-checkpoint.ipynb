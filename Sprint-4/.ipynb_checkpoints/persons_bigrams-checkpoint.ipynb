{
 "cells": [
  {
   "cell_type": "code",
   "execution_count": 1,
   "id": "fd51a695-2a22-4e2a-aa11-74412b98b94d",
   "metadata": {},
   "outputs": [],
   "source": [
    "import numpy as np\n",
    "import pandas as pd\n",
    "import os\n",
    "import re\n",
    "import collections\n",
    "import time\n",
    "import nltk\n",
    "import string\n",
    "import os\n",
    "from os.path import exists\n",
    "from nltk.corpus import stopwords\n",
    "# Cache stopword set so access is faster\n",
    "stop_words = set(stopwords.words('english'))\n",
    "translator = str.maketrans(string.punctuation, ' '*len(string.punctuation))"
   ]
  },
  {
   "cell_type": "markdown",
   "id": "7c1767db-ac15-4533-ba94-9134b3c9b7f3",
   "metadata": {},
   "source": [
    "**Prepare Data for Analysis (Run Once)**"
   ]
  },
  {
   "cell_type": "code",
   "execution_count": 2,
   "id": "b4a72dcd-c251-4e39-ac4f-6a67329afa2d",
   "metadata": {},
   "outputs": [],
   "source": [
    "# data = '../../OutputPersons/PersonsBreakdown'\n",
    "# output = '../../Data/CorporaData'"
   ]
  },
  {
   "cell_type": "markdown",
   "id": "5bca27cd-6a61-48ea-b443-8a8dc27df480",
   "metadata": {},
   "source": [
    "**Grab all of the Necessary File Tuples**"
   ]
  },
  {
   "cell_type": "code",
   "execution_count": 3,
   "id": "8e5bfda2-b292-43f4-a8c5-a283c1761b0f",
   "metadata": {},
   "outputs": [],
   "source": [
    "# files = []\n",
    "# for file in os.listdir(data):\n",
    "#     if file != '.DS_Store' and file != '.ipynb_checkpoints' and file != 'README.txt':\n",
    "#         for year in os.listdir(output):\n",
    "#             if year != '.DS_Store':\n",
    "#                 for o_file in os.listdir(os.path.join(output, year)):\n",
    "#                     if o_file != '.ipynb_checkpoints':\n",
    "#                         if '{}_{}'.format(o_file.split('.')[0], o_file.split('.')[2]) == file.split('.')[0]:\n",
    "#                             o_filedf = pd.read_csv(os.path.join(output, os.path.join(year, o_file)))\n",
    "#                             o_filedf.columns = ['URL', 'Title', 'RawText']\n",
    "#                             files.append((os.path.join(data, file), pd.read_csv(os.path.join(data, file)), o_filedf))"
   ]
  },
  {
   "cell_type": "markdown",
   "id": "1c9e50c7-eed3-49db-9ab4-5e144cfd5a8a",
   "metadata": {},
   "source": [
    "**Add Associated Raw Text for each show to our current Dataframes**"
   ]
  },
  {
   "cell_type": "code",
   "execution_count": 4,
   "id": "64bc8634-073e-4727-9b43-8c7587f06d88",
   "metadata": {},
   "outputs": [],
   "source": [
    "# dataframes = []\n",
    "# for tpl in files:\n",
    "#     p_df = tpl[1]\n",
    "#     o_df = tpl[2]\n",
    "#     merged_df = pd.merge(p_df, o_df, on='Title')\n",
    "#     merged_df.drop_duplicates(inplace=True)\n",
    "#     merged_df.reset_index(drop=True, inplace=True)\n",
    "#     dataframes.append((tpl[0], merged_df))"
   ]
  },
  {
   "cell_type": "markdown",
   "id": "a7750c6b-479f-4b53-9019-019c95313067",
   "metadata": {},
   "source": [
    "**Preprocess the Raw Text (remove 'Topics' as they mess with the frequency of mention we are trying to calculate)**"
   ]
  },
  {
   "cell_type": "markdown",
   "id": "a7c4e5bd-9257-40e2-8cfb-dfab6034bd95",
   "metadata": {},
   "source": [
    "Save Processed Dataframes to CSV so we dont have to re-run this code (time intensive)"
   ]
  },
  {
   "cell_type": "code",
   "execution_count": 5,
   "id": "3df7e64a-43e0-45ff-a8cc-1ce3d3b6c66c",
   "metadata": {},
   "outputs": [],
   "source": [
    "# s = time.time()\n",
    "# for tpl in dataframes:\n",
    "#     if exists('../../OutputPersons/PersonsData/{}'.format(tpl[0].split('/')[3])):\n",
    "#         continue\n",
    "#     else:\n",
    "#         tpl[1]['RawText_preprocessed'] = tpl[1]['RawText'].apply(\n",
    "#             lambda text: str(text).split('TOPICS: TOPIC FREQUENCY ')[0])\n",
    "#         tpl[1]['RawText_preprocessed'] = tpl[1]['RawText'].apply(lambda text: str(text)[str(text).find('[[TITLE.END]] ') + len('[[TITLE.END]] '):])   \n",
    "#         tpl[1]['RawText_preprocessed'] = tpl[1]['RawText_preprocessed'].apply(lambda text: ' '.join(re.sub('<[^<]+?>', '', word) for word in text.split()))   \n",
    "#         tpl[1]['RawText_preprocessed'] = tpl[1]['RawText_preprocessed'].apply(lambda text: text.translate(translator))\n",
    "#         del tpl[1]['RawText']\n",
    "#         del tpl[1]['URL']\n",
    "#         tpl[1].to_csv('../../OutputPersons/PersonsData/{}'.format(tpl[0].split('/')[3]), index=False)\n",
    "# e = time.time()\n",
    "# print('Time taken to preprocess: {} seconds'.format(e-s))"
   ]
  },
  {
   "cell_type": "markdown",
   "id": "4ffdaab7-be3d-486d-8a66-91dab615e3eb",
   "metadata": {},
   "source": [
    "**Reference Pre-Prepared Data for Bigrams Task**"
   ]
  },
  {
   "cell_type": "code",
   "execution_count": 2,
   "id": "c6095f2f-2bdc-4d9a-86d9-b0d6c898749d",
   "metadata": {},
   "outputs": [],
   "source": [
    "persons_data = '../../OutputPersons/PersonsData'\n",
    "# persons_data = '../../OutputPersons/PersonsBigramsRaw'\n",
    "# persons_data = '../../OutputPersons/PersonsBigramsFormatted'"
   ]
  },
  {
   "cell_type": "code",
   "execution_count": 3,
   "id": "bf665435-6c0c-442b-afcb-55e63ccff312",
   "metadata": {},
   "outputs": [],
   "source": [
    "persons_files = []\n",
    "for file in os.listdir(persons_data):\n",
    "    if file != '.DS_Store' and file != '.ipynb_checkpoints':\n",
    "        persons_files.append(os.path.join(persons_data, file))"
   ]
  },
  {
   "cell_type": "code",
   "execution_count": 4,
   "id": "2ad6b28b-6b68-411f-8b3d-7ff78b93768c",
   "metadata": {},
   "outputs": [
    {
     "data": {
      "text/plain": [
       "53"
      ]
     },
     "execution_count": 4,
     "metadata": {},
     "output_type": "execute_result"
    }
   ],
   "source": [
    "len(persons_files)"
   ]
  },
  {
   "cell_type": "markdown",
   "id": "940e02b5-e244-4abd-9d47-4e6d0e325ea7",
   "metadata": {},
   "source": [
    "**Find Frequency of Mention of First and Last Name as Unigrams Associated with a Bigram**"
   ]
  },
  {
   "cell_type": "code",
   "execution_count": 26,
   "id": "55839d01-5412-40be-b2dd-e92c31d98934",
   "metadata": {},
   "outputs": [
    {
     "name": "stdout",
     "output_type": "stream",
     "text": [
      "Time Taken to run file ../OutputPersons/PersonsData/FBC_2017.csv: 331.026734828949 seconds\n",
      "Time Taken to run file ../OutputPersons/PersonsData/CNN_2014.csv: 368.3518850803375 seconds\n",
      "Time Taken to run file ../OutputPersons/PersonsData/CNN_2016.csv: 536.1193289756775 seconds\n",
      "Time Taken to run file ../OutputPersons/PersonsData/FBC_2015.csv: 183.5704469680786 seconds\n",
      "Time Taken to run file ../OutputPersons/PersonsData/FBC_2014.csv: 53.1226909160614 seconds\n",
      "Time Taken to run file ../OutputPersons/PersonsData/CNN_2017.csv: 357.4926872253418 seconds\n"
     ]
    }
   ],
   "source": [
    "for persons_f in persons_files:\n",
    "    start = time.time()\n",
    "    df = pd.read_csv(persons_f)\n",
    "    if exists('../../OutputPersons/PersonsBigramsRaw/{}'.format(persons_f.split('/')[3])):\n",
    "        continue\n",
    "    else:\n",
    "        for i in range(len(df.index)): \n",
    "            res_list = {}\n",
    "            for name in df.loc[i, 'Bigrams of Interest'].split(', '):\n",
    "                res_list[name.split(': ')[0]] = {}\n",
    "                for k,v in res_list.items():\n",
    "                    firstname = k.split()[0]\n",
    "                    lastname = k.split()[1]\n",
    "                    res_list[k] = {firstname: str(df.loc[i, 'RawText_preprocessed']).lower().count(' {} '.format(firstname)), lastname: str(df.loc[i, 'RawText_preprocessed']).lower().count(' {} '.format(lastname))}\n",
    "            # print(', '.join('{} | {}'.format(k, v) for k,v in res_list.items()))\n",
    "            df.loc[i, 'References'] = ', '.join('{} | {}'.format(k, v) for k,v in res_list.items())\n",
    "        df.to_csv('../../OutputPersons/PersonsBigramsRaw/{}'.format(persons_f.split('/')[3]), index=False)\n",
    "        end = time.time()\n",
    "        print('Time Taken to run file {}: {} seconds'.format(persons_f, end-start))\n",
    "    "
   ]
  },
  {
   "cell_type": "markdown",
   "id": "7089663c-ebe3-4539-bd63-12e347d5a658",
   "metadata": {},
   "source": [
    "**Re-format the files according to preferred format**"
   ]
  },
  {
   "cell_type": "code",
   "execution_count": 32,
   "id": "51addf2d-8713-4092-afb8-88f5146b84d6",
   "metadata": {},
   "outputs": [
    {
     "name": "stdout",
     "output_type": "stream",
     "text": [
      "Time Taken to format ../OutputPersons/PersonsBigramsFormatted/FBC_2019.csv: 2.361157178878784 seconds\n",
      "Time Taken to format ../OutputPersons/PersonsBigramsFormatted/FBC_2018.csv: 1.4864141941070557 seconds\n",
      "Time Taken to format ../OutputPersons/PersonsBigramsFormatted/CNN_2019.csv: 3.471096992492676 seconds\n",
      "Time Taken to format ../OutputPersons/PersonsBigramsFormatted/CNN_2018.csv: 3.2041821479797363 seconds\n",
      "Time Taken to format ../OutputPersons/PersonsBigramsFormatted/CNN_2020.csv: 3.5264902114868164 seconds\n",
      "Time Taken to format ../OutputPersons/PersonsBigramsFormatted/FBC_2020.csv: 1.8303258419036865 seconds\n",
      "Time Taken to format ../OutputPersons/PersonsBigramsFormatted/Bloomberg_2015.csv: 1.8072009086608887 seconds\n",
      "Time Taken to format ../OutputPersons/PersonsBigramsFormatted/FOXNEWS_2016.csv: 2.7688241004943848 seconds\n",
      "Time Taken to format ../OutputPersons/PersonsBigramsFormatted/CNBC_2016.csv: 1.2873871326446533 seconds\n",
      "Time Taken to format ../OutputPersons/PersonsBigramsFormatted/FOXNEWS_2017.csv: 2.659301280975342 seconds\n",
      "Time Taken to format ../OutputPersons/PersonsBigramsFormatted/CNBC_2017.csv: 1.2936029434204102 seconds\n",
      "Time Taken to format ../OutputPersons/PersonsBigramsFormatted/Bloomberg_2014.csv: 1.5616569519042969 seconds\n",
      "Time Taken to format ../OutputPersons/PersonsBigramsFormatted/MSNBC_2018.csv: 2.157183885574341 seconds\n",
      "Time Taken to format ../OutputPersons/PersonsBigramsFormatted/Bloomberg_2016.csv: 2.280226945877075 seconds\n",
      "Time Taken to format ../OutputPersons/PersonsBigramsFormatted/CNBC_2015.csv: 1.260138988494873 seconds\n",
      "Time Taken to format ../OutputPersons/PersonsBigramsFormatted/FOXNEWS_2015.csv: 2.23553204536438 seconds\n",
      "Time Taken to format ../OutputPersons/PersonsBigramsFormatted/CNBC_2014.csv: 1.314819097518921 seconds\n",
      "Time Taken to format ../OutputPersons/PersonsBigramsFormatted/FOXNEWS_2014.csv: 2.582688093185425 seconds\n",
      "Time Taken to format ../OutputPersons/PersonsBigramsFormatted/Bloomberg_2017.csv: 2.275254011154175 seconds\n",
      "Time Taken to format ../OutputPersons/PersonsBigramsFormatted/MSNBC_2019.csv: 2.212613105773926 seconds\n",
      "Time Taken to format ../OutputPersons/PersonsBigramsFormatted/Bloomberg_2013.csv: 0.14043784141540527 seconds\n",
      "Time Taken to format ../OutputPersons/PersonsBigramsFormatted/MSNBC_2020.csv: 3.7557241916656494 seconds\n",
      "Time Taken to format ../OutputPersons/PersonsBigramsFormatted/CNBC_2013.csv: 1.4129531383514404 seconds\n",
      "Time Taken to format ../OutputPersons/PersonsBigramsFormatted/FOXNEWS_2013.csv: 2.5125317573547363 seconds\n",
      "Time Taken to format ../OutputPersons/PersonsBigramsFormatted/CNBC_2012.csv: 1.2090330123901367 seconds\n",
      "Time Taken to format ../OutputPersons/PersonsBigramsFormatted/FOXNEWS_2012.csv: 2.507072687149048 seconds\n",
      "Time Taken to format ../OutputPersons/PersonsBigramsFormatted/MSNBC_2012.csv: 1.7482972145080566 seconds\n",
      "Time Taken to format ../OutputPersons/PersonsBigramsFormatted/Bloomberg_2020.csv: 1.4987881183624268 seconds\n",
      "Time Taken to format ../OutputPersons/PersonsBigramsFormatted/MSNBC_2013.csv: 1.9292590618133545 seconds\n",
      "Time Taken to format ../OutputPersons/PersonsBigramsFormatted/FOXNEWS_2020.csv: 3.749589681625366 seconds\n",
      "Time Taken to format ../OutputPersons/PersonsBigramsFormatted/CNBC_2020.csv: 1.342670202255249 seconds\n",
      "Time Taken to format ../OutputPersons/PersonsBigramsFormatted/MSNBC_2014.csv: 1.8154571056365967 seconds\n",
      "Time Taken to format ../OutputPersons/PersonsBigramsFormatted/CNBC_2019.csv: 1.1727209091186523 seconds\n",
      "Time Taken to format ../OutputPersons/PersonsBigramsFormatted/FOXNEWS_2019.csv: 2.9229979515075684 seconds\n",
      "Time Taken to format ../OutputPersons/PersonsBigramsFormatted/CNBC_2018.csv: 1.2203950881958008 seconds\n",
      "Time Taken to format ../OutputPersons/PersonsBigramsFormatted/FOXNEWS_2018.csv: 2.7978570461273193 seconds\n",
      "Time Taken to format ../OutputPersons/PersonsBigramsFormatted/MSNBC_2015.csv: 2.0196709632873535 seconds\n",
      "Time Taken to format ../OutputPersons/PersonsBigramsFormatted/MSNBC_2017.csv: 2.2556259632110596 seconds\n",
      "Time Taken to format ../OutputPersons/PersonsBigramsFormatted/Bloomberg_2019.csv: 1.9333240985870361 seconds\n",
      "Time Taken to format ../OutputPersons/PersonsBigramsFormatted/Bloomberg_2018.csv: 2.0538170337677 seconds\n",
      "Time Taken to format ../OutputPersons/PersonsBigramsFormatted/MSNBC_2016.csv: 2.300079107284546 seconds\n",
      "Time Taken to format ../OutputPersons/PersonsBigramsFormatted/CNN_2013.csv: 2.6065897941589355 seconds\n",
      "Time Taken to format ../OutputPersons/PersonsBigramsFormatted/CNN_2012.csv: 2.517514944076538 seconds\n",
      "Time Taken to format ../OutputPersons/PersonsBigramsFormatted/FBC_2013.csv: 0.9809548854827881 seconds\n",
      "Time Taken to format ../OutputPersons/PersonsBigramsFormatted/FBC_2012.csv: 0.3834798336029053 seconds\n",
      "Time Taken to format ../OutputPersons/PersonsBigramsFormatted/CNN_2015.csv: 2.605902671813965 seconds\n",
      "Time Taken to format ../OutputPersons/PersonsBigramsFormatted/FBC_2016.csv: 1.666654109954834 seconds\n",
      "Time Taken to format ../OutputPersons/PersonsBigramsFormatted/FBC_2017.csv: 1.3613700866699219 seconds\n",
      "Time Taken to format ../OutputPersons/PersonsBigramsFormatted/CNN_2014.csv: 2.697256088256836 seconds\n",
      "Time Taken to format ../OutputPersons/PersonsBigramsFormatted/CNN_2016.csv: 3.4338109493255615 seconds\n",
      "Time Taken to format ../OutputPersons/PersonsBigramsFormatted/FBC_2015.csv: 1.1774969100952148 seconds\n",
      "Time Taken to format ../OutputPersons/PersonsBigramsFormatted/FBC_2014.csv: 0.8599140644073486 seconds\n",
      "Time Taken to format ../OutputPersons/PersonsBigramsFormatted/CNN_2017.csv: 3.168868064880371 seconds\n"
     ]
    }
   ],
   "source": [
    "for file in persons_files:\n",
    "    start = time.time()\n",
    "    df = pd.read_csv(file)\n",
    "    if exists('../../OutputPersons/PersonsBigramsFormatted/{}'.format(persons_f.split('/')[3])):\n",
    "        continue\n",
    "    else:\n",
    "        tuples_list = []\n",
    "        output_df = pd.DataFrame()\n",
    "        for i in range(len(df.index)):\n",
    "            show_title = str(df.loc[i, 'Title'])\n",
    "            references_list = df.loc[i, 'References'].split('}')\n",
    "            bigrams_list = df.loc[i, 'Bigrams of Interest'].split(',')\n",
    "            for item in references_list:\n",
    "                if item != '':\n",
    "                    unigram = re.sub(\"'\", '', item.split('|')[1].replace('{', '').lstrip())\n",
    "                    main_person = bigrams_list[references_list.index(item)]\n",
    "                    tuples_list.append((show_title, main_person, unigram))\n",
    "        output_df = pd.DataFrame(tuples_list, columns=['Title', 'Unigram', 'Bigrams'])\n",
    "        output_df.to_csv('../../OutputPersons/PersonsBigramsFormatted/{}'.format(file.split('/')[3]), index=False)\n",
    "        end = time.time()\n",
    "        print('Time Taken to format {}: {} seconds'.format('../../OutputPersons/PersonsBigramsFormatted/{}'.format(file.split('/')[3]), end-start))"
   ]
  },
  {
   "cell_type": "markdown",
   "id": "3bc7a807-025a-4fe3-a742-3743fe93af24",
   "metadata": {},
   "source": [
    "**Add Unigram Specific Attribute Info (from wiki_bigrams)**"
   ]
  },
  {
   "cell_type": "code",
   "execution_count": 5,
   "id": "b5e5c6fb-4996-4157-a710-e78cc5da5e4f",
   "metadata": {},
   "outputs": [],
   "source": [
    "wiki = pd.read_excel('../../Data/Other/wiki_bigrams.xlsx')\n",
    "wiki['Info1'] = wiki['Info1'].apply(lambda info: str(info))"
   ]
  },
  {
   "cell_type": "code",
   "execution_count": 48,
   "id": "2d262af0-bff6-4bff-9f3f-220232343104",
   "metadata": {},
   "outputs": [
    {
     "name": "stdout",
     "output_type": "stream",
     "text": [
      "File ../OutputPersons/PersonsBigramsFormatted/FBC_2019.csv done: 212.97288012504578 seconds\n",
      "File ../OutputPersons/PersonsBigramsFormatted/FBC_2018.csv done: 195.28288292884827 seconds\n",
      "File ../OutputPersons/PersonsBigramsFormatted/CNN_2019.csv done: 494.01712799072266 seconds\n",
      "File ../OutputPersons/PersonsBigramsFormatted/CNN_2018.csv done: 468.3604431152344 seconds\n",
      "File ../OutputPersons/PersonsBigramsFormatted/CNN_2020.csv done: 401.87814712524414 seconds\n",
      "File ../OutputPersons/PersonsBigramsFormatted/FBC_2020.csv done: 173.7966079711914 seconds\n",
      "File ../OutputPersons/PersonsBigramsFormatted/Bloomberg_2015.csv done: 169.29652190208435 seconds\n",
      "File ../OutputPersons/PersonsBigramsFormatted/FOXNEWS_2016.csv done: 426.3785388469696 seconds\n",
      "File ../OutputPersons/PersonsBigramsFormatted/CNBC_2016.csv done: 94.63657307624817 seconds\n",
      "File ../OutputPersons/PersonsBigramsFormatted/FOXNEWS_2017.csv done: 460.69200325012207 seconds\n",
      "File ../OutputPersons/PersonsBigramsFormatted/CNBC_2017.csv done: 93.46535420417786 seconds\n",
      "File ../OutputPersons/PersonsBigramsFormatted/Bloomberg_2014.csv done: 135.9524917602539 seconds\n",
      "File ../OutputPersons/PersonsBigramsFormatted/MSNBC_2018.csv done: 322.49460005760193 seconds\n",
      "File ../OutputPersons/PersonsBigramsFormatted/Bloomberg_2016.csv done: 190.57111191749573 seconds\n",
      "File ../OutputPersons/PersonsBigramsFormatted/CNBC_2015.csv done: 67.70414590835571 seconds\n",
      "File ../OutputPersons/PersonsBigramsFormatted/FOXNEWS_2015.csv done: 287.80578207969666 seconds\n",
      "File ../OutputPersons/PersonsBigramsFormatted/CNBC_2014.csv done: 68.17722821235657 seconds\n",
      "File ../OutputPersons/PersonsBigramsFormatted/FOXNEWS_2014.csv done: 303.2096178531647 seconds\n",
      "File ../OutputPersons/PersonsBigramsFormatted/Bloomberg_2017.csv done: 173.29679584503174 seconds\n",
      "File ../OutputPersons/PersonsBigramsFormatted/MSNBC_2019.csv done: 296.19510769844055 seconds\n",
      "File ../OutputPersons/PersonsBigramsFormatted/Bloomberg_2013.csv done: 7.9223480224609375 seconds\n",
      "File ../OutputPersons/PersonsBigramsFormatted/MSNBC_2020.csv done: 469.0290849208832 seconds\n",
      "File ../OutputPersons/PersonsBigramsFormatted/CNBC_2013.csv done: 84.66667795181274 seconds\n",
      "File ../OutputPersons/PersonsBigramsFormatted/FOXNEWS_2013.csv done: 333.39334201812744 seconds\n",
      "File ../OutputPersons/PersonsBigramsFormatted/CNBC_2012.csv done: 66.23148083686829 seconds\n",
      "File ../OutputPersons/PersonsBigramsFormatted/FOXNEWS_2012.csv done: 307.51818895339966 seconds\n",
      "File ../OutputPersons/PersonsBigramsFormatted/MSNBC_2012.csv done: 189.63962292671204 seconds\n",
      "File ../OutputPersons/PersonsBigramsFormatted/Bloomberg_2020.csv done: 78.4167091846466 seconds\n",
      "File ../OutputPersons/PersonsBigramsFormatted/MSNBC_2013.csv done: 258.8052041530609 seconds\n",
      "File ../OutputPersons/PersonsBigramsFormatted/FOXNEWS_2020.csv done: 528.2658438682556 seconds\n",
      "File ../OutputPersons/PersonsBigramsFormatted/CNBC_2020.csv done: 71.09656381607056 seconds\n",
      "File ../OutputPersons/PersonsBigramsFormatted/MSNBC_2014.csv done: 191.0806429386139 seconds\n",
      "File ../OutputPersons/PersonsBigramsFormatted/CNBC_2019.csv done: 58.77461004257202 seconds\n",
      "File ../OutputPersons/PersonsBigramsFormatted/FOXNEWS_2019.csv done: 500.116103887558 seconds\n",
      "File ../OutputPersons/PersonsBigramsFormatted/CNBC_2018.csv done: 75.82136917114258 seconds\n",
      "File ../OutputPersons/PersonsBigramsFormatted/FOXNEWS_2018.csv done: 549.8768429756165 seconds\n",
      "File ../OutputPersons/PersonsBigramsFormatted/MSNBC_2015.csv done: 183.35734915733337 seconds\n",
      "File ../OutputPersons/PersonsBigramsFormatted/MSNBC_2017.csv done: 319.64646577835083 seconds\n",
      "File ../OutputPersons/PersonsBigramsFormatted/Bloomberg_2019.csv done: 114.27402901649475 seconds\n",
      "File ../OutputPersons/PersonsBigramsFormatted/Bloomberg_2018.csv done: 127.47639298439026 seconds\n",
      "File ../OutputPersons/PersonsBigramsFormatted/MSNBC_2016.csv done: 282.70436096191406 seconds\n",
      "File ../OutputPersons/PersonsBigramsFormatted/CNN_2013.csv done: 304.2056393623352 seconds\n",
      "File ../OutputPersons/PersonsBigramsFormatted/CNN_2012.csv done: 247.8829219341278 seconds\n",
      "File ../OutputPersons/PersonsBigramsFormatted/FBC_2013.csv done: 70.80466794967651 seconds\n",
      "File ../OutputPersons/PersonsBigramsFormatted/FBC_2012.csv done: 21.001986265182495 seconds\n",
      "File ../OutputPersons/PersonsBigramsFormatted/CNN_2015.csv done: 351.68117904663086 seconds\n",
      "File ../OutputPersons/PersonsBigramsFormatted/FBC_2016.csv done: 202.20823407173157 seconds\n",
      "File ../OutputPersons/PersonsBigramsFormatted/FBC_2017.csv done: 155.47832608222961 seconds\n",
      "File ../OutputPersons/PersonsBigramsFormatted/CNN_2014.csv done: 235.1488482952118 seconds\n",
      "File ../OutputPersons/PersonsBigramsFormatted/CNN_2016.csv done: 476.35540795326233 seconds\n",
      "File ../OutputPersons/PersonsBigramsFormatted/FBC_2015.csv done: 127.54671597480774 seconds\n",
      "File ../OutputPersons/PersonsBigramsFormatted/FBC_2014.csv done: 64.57726502418518 seconds\n",
      "File ../OutputPersons/PersonsBigramsFormatted/CNN_2017.csv done: 509.5282199382782 seconds\n"
     ]
    }
   ],
   "source": [
    "attributes = ['Male', 'Female', 'Politician', 'American', 'Foreign', 'Republican', 'Democratic', 'Chief Executive Officer', \n",
    "              'Chief Financial Officer', 'Hedge Fund Manager', 'Investor', 'Billionaire', 'Lawyer', 'Television Reporters', 'Television Hosts']\n",
    "\n",
    "for file in persons_files:\n",
    "    start = time.time()\n",
    "    df = pd.read_csv(file)\n",
    "    # Add something like 'if 'Male' in df.columns: continue'\n",
    "    for i in range(len(df.index)):\n",
    "        if str(df.loc[i, 'Unigram']) != 'No Hits':\n",
    "            person = df.loc[i, 'Unigram'].split(':')[0].lstrip()\n",
    "            person_index = wiki.loc[wiki['Name'] == person.rstrip()].index[0] # Grab index of person in wiki_bigrams\n",
    "            for att in attributes:\n",
    "                if att == 'Female':\n",
    "                    if att.lower() in wiki.loc[person_index, 'Info1'].lower() or 'women' in wiki.loc[person_index, 'Info1'].lower():\n",
    "                        df.loc[i, att] = int(1)\n",
    "                    else:\n",
    "                        df.loc[i, att] = int(0)\n",
    "                elif att == 'Male':\n",
    "                    if 'female' not in wiki.loc[person_index, 'Info1'].lower() and 'women' not in wiki.loc[person_index, 'Info1'].lower():\n",
    "                        df.loc[i, att] = int(1)\n",
    "                    else:\n",
    "                        df.loc[i, att] = int(0)\n",
    "                elif att == 'Foreign':\n",
    "                    if 'american' not in wiki.loc[person_index, 'Info1'].lower():\n",
    "                        df.loc[i, att] = int(1)\n",
    "                    else:\n",
    "                        df.loc[i, att] = int(0)\n",
    "                else:\n",
    "                    if att.lower() in wiki.loc[person_index, 'Info1'].lower():\n",
    "                        df.loc[i, att] = int(1)\n",
    "                    else:\n",
    "                        df.loc[i, att] = int(0)\n",
    "        else:\n",
    "            continue\n",
    "    df.to_csv(file, index=False)  \n",
    "    end = time.time()\n",
    "    print('File {} done: {} seconds'.format(file, end-start))"
   ]
  },
  {
   "cell_type": "code",
   "execution_count": 7,
   "id": "bfc4b7a9-538e-4c77-816d-57fd2c77cae2",
   "metadata": {},
   "outputs": [
    {
     "name": "stdout",
     "output_type": "stream",
     "text": [
      "File ../OutputPersons/PersonsBigramsFormatted/FBC_2019.csv done: 80.43328213691711 seconds\n",
      "File ../OutputPersons/PersonsBigramsFormatted/FBC_2018.csv done: 74.65979313850403 seconds\n",
      "File ../OutputPersons/PersonsBigramsFormatted/CNN_2019.csv done: 177.40051984786987 seconds\n",
      "File ../OutputPersons/PersonsBigramsFormatted/CNN_2018.csv done: 176.81460905075073 seconds\n",
      "File ../OutputPersons/PersonsBigramsFormatted/CNN_2020.csv done: 157.8250036239624 seconds\n",
      "File ../OutputPersons/PersonsBigramsFormatted/FBC_2020.csv done: 78.18749594688416 seconds\n",
      "File ../OutputPersons/PersonsBigramsFormatted/Bloomberg_2015.csv done: 78.11636090278625 seconds\n",
      "File ../OutputPersons/PersonsBigramsFormatted/FOXNEWS_2016.csv done: 167.5404818058014 seconds\n",
      "File ../OutputPersons/PersonsBigramsFormatted/CNBC_2016.csv done: 49.36315107345581 seconds\n",
      "File ../OutputPersons/PersonsBigramsFormatted/FOXNEWS_2017.csv done: 170.5167601108551 seconds\n",
      "File ../OutputPersons/PersonsBigramsFormatted/CNBC_2017.csv done: 43.64695978164673 seconds\n",
      "File ../OutputPersons/PersonsBigramsFormatted/Bloomberg_2014.csv done: 60.31973099708557 seconds\n",
      "File ../OutputPersons/PersonsBigramsFormatted/MSNBC_2018.csv done: 135.97830605506897 seconds\n",
      "File ../OutputPersons/PersonsBigramsFormatted/Bloomberg_2016.csv done: 94.7986249923706 seconds\n",
      "File ../OutputPersons/PersonsBigramsFormatted/CNBC_2015.csv done: 37.78758907318115 seconds\n",
      "File ../OutputPersons/PersonsBigramsFormatted/FOXNEWS_2015.csv done: 123.51339483261108 seconds\n",
      "File ../OutputPersons/PersonsBigramsFormatted/CNBC_2014.csv done: 37.71812295913696 seconds\n",
      "File ../OutputPersons/PersonsBigramsFormatted/FOXNEWS_2014.csv done: 128.63274121284485 seconds\n",
      "File ../OutputPersons/PersonsBigramsFormatted/Bloomberg_2017.csv done: 84.28985214233398 seconds\n",
      "File ../OutputPersons/PersonsBigramsFormatted/MSNBC_2019.csv done: 135.55778288841248 seconds\n",
      "File ../OutputPersons/PersonsBigramsFormatted/Bloomberg_2013.csv done: 5.027216196060181 seconds\n",
      "File ../OutputPersons/PersonsBigramsFormatted/MSNBC_2020.csv done: 175.57869291305542 seconds\n",
      "File ../OutputPersons/PersonsBigramsFormatted/CNBC_2013.csv done: 41.983201026916504 seconds\n",
      "File ../OutputPersons/PersonsBigramsFormatted/FOXNEWS_2013.csv done: 133.46323466300964 seconds\n",
      "File ../OutputPersons/PersonsBigramsFormatted/CNBC_2012.csv done: 35.486408948898315 seconds\n",
      "File ../OutputPersons/PersonsBigramsFormatted/FOXNEWS_2012.csv done: 132.960932970047 seconds\n",
      "File ../OutputPersons/PersonsBigramsFormatted/MSNBC_2012.csv done: 97.83839011192322 seconds\n",
      "File ../OutputPersons/PersonsBigramsFormatted/Bloomberg_2020.csv done: 43.23377084732056 seconds\n",
      "File ../OutputPersons/PersonsBigramsFormatted/MSNBC_2013.csv done: 107.60822916030884 seconds\n",
      "File ../OutputPersons/PersonsBigramsFormatted/FOXNEWS_2020.csv done: 205.3413450717926 seconds\n",
      "File ../OutputPersons/PersonsBigramsFormatted/CNBC_2020.csv done: 31.728090286254883 seconds\n",
      "File ../OutputPersons/PersonsBigramsFormatted/MSNBC_2014.csv done: 86.11633825302124 seconds\n",
      "File ../OutputPersons/PersonsBigramsFormatted/CNBC_2019.csv done: 33.42366003990173 seconds\n",
      "File ../OutputPersons/PersonsBigramsFormatted/FOXNEWS_2019.csv done: 189.71741890907288 seconds\n",
      "File ../OutputPersons/PersonsBigramsFormatted/CNBC_2018.csv done: 36.90647292137146 seconds\n",
      "File ../OutputPersons/PersonsBigramsFormatted/FOXNEWS_2018.csv done: 204.4945032596588 seconds\n",
      "File ../OutputPersons/PersonsBigramsFormatted/MSNBC_2015.csv done: 93.9830470085144 seconds\n",
      "File ../OutputPersons/PersonsBigramsFormatted/MSNBC_2017.csv done: 133.59016180038452 seconds\n",
      "File ../OutputPersons/PersonsBigramsFormatted/Bloomberg_2019.csv done: 56.51592803001404 seconds\n",
      "File ../OutputPersons/PersonsBigramsFormatted/Bloomberg_2018.csv done: 61.66224122047424 seconds\n",
      "File ../OutputPersons/PersonsBigramsFormatted/MSNBC_2016.csv done: 139.05974769592285 seconds\n",
      "File ../OutputPersons/PersonsBigramsFormatted/CNN_2013.csv done: 123.34353518486023 seconds\n",
      "File ../OutputPersons/PersonsBigramsFormatted/CNN_2012.csv done: 120.50602006912231 seconds\n",
      "File ../OutputPersons/PersonsBigramsFormatted/FBC_2013.csv done: 33.3483510017395 seconds\n",
      "File ../OutputPersons/PersonsBigramsFormatted/FBC_2012.csv done: 12.4236421585083 seconds\n",
      "File ../OutputPersons/PersonsBigramsFormatted/CNN_2015.csv done: 129.43193411827087 seconds\n",
      "File ../OutputPersons/PersonsBigramsFormatted/FBC_2016.csv done: 82.40763187408447 seconds\n",
      "File ../OutputPersons/PersonsBigramsFormatted/FBC_2017.csv done: 75.00423312187195 seconds\n",
      "File ../OutputPersons/PersonsBigramsFormatted/CNN_2014.csv done: 112.6996557712555 seconds\n",
      "File ../OutputPersons/PersonsBigramsFormatted/CNN_2016.csv done: 171.00756287574768 seconds\n",
      "File ../OutputPersons/PersonsBigramsFormatted/FBC_2015.csv done: 58.3255500793457 seconds\n",
      "File ../OutputPersons/PersonsBigramsFormatted/FBC_2014.csv done: 31.915987014770508 seconds\n",
      "File ../OutputPersons/PersonsBigramsFormatted/CNN_2017.csv done: 183.93734693527222 seconds\n"
     ]
    }
   ],
   "source": [
    "attributes = ['Fox News People', 'Fox Business', 'CNBC People', 'Bloomberg People', 'Fox Business', 'MSNBC People', 'CNN People']\n",
    "\n",
    "for file in persons_files:\n",
    "    start = time.time()\n",
    "    df = pd.read_csv(file)\n",
    "    # Add something like 'if 'Male' in df.columns: continue'\n",
    "    for i in range(len(df.index)):\n",
    "        count = 0\n",
    "        if str(df.loc[i, 'Unigram']) != 'No Hits':\n",
    "            person = df.loc[i, 'Unigram'].split(':')[0].lstrip()\n",
    "            person_index = wiki.loc[wiki['Name'] == person.rstrip()].index[0] # Grab index of person in wiki_bigrams\n",
    "            for att in attributes:\n",
    "                if att.lower() in wiki.loc[person_index, 'Info1'].lower():\n",
    "                    count += 1\n",
    "            if count > 0:\n",
    "                df.loc[i, 'Television Person'] = int(1)\n",
    "            else:\n",
    "                df.loc[i, 'Television Person'] = int(0)\n",
    "        else:\n",
    "            continue\n",
    "    df.to_csv(file, index=False)  \n",
    "    end = time.time()\n",
    "    print('File {} done: {} seconds'.format(file, end-start))"
   ]
  },
  {
   "cell_type": "code",
   "execution_count": null,
   "id": "db9416d3-d376-4463-b712-3da7febc83a1",
   "metadata": {},
   "outputs": [],
   "source": []
  }
 ],
 "metadata": {
  "kernelspec": {
   "display_name": "Python 3 (ipykernel)",
   "language": "python",
   "name": "python3"
  },
  "language_info": {
   "codemirror_mode": {
    "name": "ipython",
    "version": 3
   },
   "file_extension": ".py",
   "mimetype": "text/x-python",
   "name": "python",
   "nbconvert_exporter": "python",
   "pygments_lexer": "ipython3",
   "version": "3.9.12"
  }
 },
 "nbformat": 4,
 "nbformat_minor": 5
}
