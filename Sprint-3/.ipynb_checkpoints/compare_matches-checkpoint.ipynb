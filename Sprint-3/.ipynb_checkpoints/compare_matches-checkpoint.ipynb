{
 "cells": [
  {
   "cell_type": "code",
   "execution_count": 23,
   "id": "b35ff256-a99f-4ba6-932b-379062bf6afe",
   "metadata": {},
   "outputs": [],
   "source": [
    "import pandas as pd\n",
    "import numpy as np\n",
    "import os"
   ]
  },
  {
   "cell_type": "markdown",
   "id": "a153f328-41de-4d79-96af-b1e4707742a5",
   "metadata": {},
   "source": [
    "**Define Paths to Output Folders**"
   ]
  },
  {
   "cell_type": "code",
   "execution_count": 24,
   "id": "412cee02-8e57-4eee-9097-1f2ab10e9e11",
   "metadata": {},
   "outputs": [],
   "source": [
    "data = '../../Output'\n",
    "raw_data = '../../OutputRaw'"
   ]
  },
  {
   "cell_type": "markdown",
   "id": "103cdbac-ce5c-4a8b-a4ce-1ebb54aef7bb",
   "metadata": {},
   "source": [
    "**Define Helper Function to Assemble lists of Files**"
   ]
  },
  {
   "cell_type": "code",
   "execution_count": 25,
   "id": "9ad5f10c-91b3-49d6-8c37-876f91218d41",
   "metadata": {},
   "outputs": [],
   "source": [
    "def get_files(path):\n",
    "    ret = []\n",
    "    for folder in os.listdir(path):\n",
    "        if folder != '.DS_Store' and folder != 'FirmNameStats.txt' and folder != 'OutputStats.txt' and folder != '.ipynb_checkpoints':\n",
    "            for file in os.listdir(os.path.join(path, folder)):\n",
    "                if file != '.DS_Store' and file != '.ipynb_checkpoints':\n",
    "                    ret.append((os.path.join(path + '/' + folder, file)))\n",
    "    return ret"
   ]
  },
  {
   "cell_type": "markdown",
   "id": "1d2c0d62-111d-422b-9f2f-dff504015be5",
   "metadata": {},
   "source": [
    "**<span style=\"font-size:2em;\">Helper Functions</span>**"
   ]
  },
  {
   "cell_type": "markdown",
   "id": "034fd002-ab1b-4c05-ac53-3877c3935b1e",
   "metadata": {},
   "source": [
    "**Function to Get Unique Firms from each file**"
   ]
  },
  {
   "cell_type": "code",
   "execution_count": 26,
   "id": "e8cc165f-0373-4133-bdac-27ac714fc012",
   "metadata": {},
   "outputs": [],
   "source": [
    "def get_list(org_list):\n",
    "    ret = []\n",
    "    for string in org_list:\n",
    "        for ent in string.split(', '):\n",
    "            if ent not in ret:\n",
    "                ret.append(ent)\n",
    "    return ret"
   ]
  },
  {
   "cell_type": "markdown",
   "id": "9ff655bb-8023-4d46-8840-33e69150af19",
   "metadata": {},
   "source": [
    "**Function That Produces a Spillover List (A - B)**"
   ]
  },
  {
   "cell_type": "code",
   "execution_count": 27,
   "id": "ee5feeb7-35e1-4703-b517-665d7fc34ecb",
   "metadata": {},
   "outputs": [],
   "source": [
    "def find_difference(list1, list2):\n",
    "    spillover = []\n",
    "    for i in list1:\n",
    "        if i not in list2:\n",
    "            spillover.append(i)\n",
    "    return spillover"
   ]
  },
  {
   "cell_type": "markdown",
   "id": "ca2f22ac-9990-4b2a-835f-1da41f90bbb0",
   "metadata": {},
   "source": [
    "**Function That Returns a List of Two-Word Firm Names (i.e. Under Armor)**"
   ]
  },
  {
   "cell_type": "code",
   "execution_count": 28,
   "id": "96214488-c511-4ab2-8298-09541a3d8505",
   "metadata": {},
   "outputs": [],
   "source": [
    "def get_bigrams(spill):\n",
    "    b = []\n",
    "    for i in spill:\n",
    "        if len(i.split()) > 1:\n",
    "            b.append(i)\n",
    "    return b"
   ]
  },
  {
   "cell_type": "markdown",
   "id": "59f7b27d-9aed-4bad-91b0-0d86c2763efa",
   "metadata": {},
   "source": [
    "**<span style=\"font-size:2em;\">Iterate Through File List and Compare Differences in Matches</span>**"
   ]
  },
  {
   "cell_type": "markdown",
   "id": "32839c87-ff42-415d-8632-36128537d348",
   "metadata": {},
   "source": [
    "**Get Lists of Output Files**"
   ]
  },
  {
   "cell_type": "code",
   "execution_count": 29,
   "id": "15717182-2868-438d-ab06-9febb470236b",
   "metadata": {},
   "outputs": [],
   "source": [
    "raw_files = get_files(raw_data)\n",
    "files = get_files(data)"
   ]
  },
  {
   "cell_type": "markdown",
   "id": "38ca43be-47c0-45d0-98d4-71e67af4b10a",
   "metadata": {},
   "source": [
    "**Iterate Through and Produce Lists of Unique Firm Names across each Output Folder**"
   ]
  },
  {
   "cell_type": "code",
   "execution_count": 30,
   "id": "361209fa-ac38-436b-abec-8c2da9c57ca9",
   "metadata": {},
   "outputs": [],
   "source": [
    "og_list = []\n",
    "raw_list = []\n",
    "for i in range(len(files)):\n",
    "    og_df = pd.read_csv(files[i])\n",
    "    raw_df = pd.read_csv(raw_files[i])\n",
    "    og_list.append(get_list([str(org) for org in og_df['Matched Organizations'].tolist()]))\n",
    "    raw_list.append(get_list([str(org) for org in raw_df['Matched Organizations'].tolist()]))"
   ]
  },
  {
   "cell_type": "markdown",
   "id": "77567b1f-ae8c-4875-9036-0cb166c7136d",
   "metadata": {},
   "source": [
    "**Remove Duplicates From Both Lists**"
   ]
  },
  {
   "cell_type": "code",
   "execution_count": 31,
   "id": "487132c6-adbe-4c9a-9d91-99f584aa4c8f",
   "metadata": {},
   "outputs": [
    {
     "name": "stdout",
     "output_type": "stream",
     "text": [
      "Unique Firms Found in Raw Match: 3214\n",
      "Unique Firms Found in Spacy Match: 1273\n"
     ]
    }
   ],
   "source": [
    "raw = []\n",
    "for l in raw_list:\n",
    "    for i in l:\n",
    "        if i not in raw:\n",
    "            raw.append(i)\n",
    "ogs = []\n",
    "for l in og_list:\n",
    "    for i in l:\n",
    "        if i not in ogs:\n",
    "            ogs.append(i)\n",
    "            \n",
    "print('Unique Firms Found in Raw Match: {}\\nUnique Firms Found in Spacy Match: {}'.format(len(raw), len(ogs)))"
   ]
  },
  {
   "cell_type": "markdown",
   "id": "0740fd0d-3c5b-477e-93c4-9d365c7b0dde",
   "metadata": {},
   "source": [
    "**Find The Firm Names that Appear in Raw Match, but not in Spacy Match**"
   ]
  },
  {
   "cell_type": "code",
   "execution_count": 32,
   "id": "2931588f-a0c8-4f96-8cea-51f8e5bcfb60",
   "metadata": {},
   "outputs": [],
   "source": [
    "spillover = find_difference(raw, ogs)"
   ]
  },
  {
   "cell_type": "markdown",
   "id": "bc799322-2c9d-4ff5-9b7a-61c602f8a6e7",
   "metadata": {},
   "source": [
    "**Get Bigram and Unigram Firm Names From Spillover List**  "
   ]
  },
  {
   "cell_type": "code",
   "execution_count": 33,
   "id": "7a92bf62-79af-4b33-b2e0-2ca2c3687745",
   "metadata": {},
   "outputs": [
    {
     "name": "stdout",
     "output_type": "stream",
     "text": [
      "Percentage of Spillover List that are Two-Word Firm Names: 67.4%\n"
     ]
    }
   ],
   "source": [
    "bgs = get_bigrams(spillover) # These two-word firms are much less likely to be confused with anything other than a company\n",
    "unigrams = list(set(spillover) - set(bgs))\n",
    "print('Percentage of Spillover List that are Two-Word Firm Names: {}%'.format(round(len(bgs) * 100/len(spillover), 1)))"
   ]
  },
  {
   "cell_type": "code",
   "execution_count": null,
   "id": "642ec86f-399b-4133-8d97-511ff20dba8b",
   "metadata": {},
   "outputs": [],
   "source": []
  }
 ],
 "metadata": {
  "kernelspec": {
   "display_name": "Python 3 (ipykernel)",
   "language": "python",
   "name": "python3"
  },
  "language_info": {
   "codemirror_mode": {
    "name": "ipython",
    "version": 3
   },
   "file_extension": ".py",
   "mimetype": "text/x-python",
   "name": "python",
   "nbconvert_exporter": "python",
   "pygments_lexer": "ipython3",
   "version": "3.9.12"
  }
 },
 "nbformat": 4,
 "nbformat_minor": 5
}
