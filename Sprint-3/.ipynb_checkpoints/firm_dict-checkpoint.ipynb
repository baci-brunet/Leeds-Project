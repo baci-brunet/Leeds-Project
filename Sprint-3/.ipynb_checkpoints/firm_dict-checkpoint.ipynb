{
 "cells": [
  {
   "cell_type": "code",
   "execution_count": 63,
   "id": "037ff66a-1d19-4da7-b9f1-f86a877661a4",
   "metadata": {},
   "outputs": [],
   "source": [
    "import pandas as pd\n",
    "import numpy as np\n",
    "import nltk\n",
    "from nltk.corpus import words\n",
    "word_list = words.words()\n",
    "import re\n",
    "import string\n",
    "import os\n",
    "import collections\n",
    "import time"
   ]
  },
  {
   "cell_type": "code",
   "execution_count": 64,
   "id": "cc8071a8-93a3-4c4b-8c84-14ffb68bb7e7",
   "metadata": {},
   "outputs": [],
   "source": [
    "df = pd.read_excel('../../Data/FirmNameData/cleaned_firms.xlsx')"
   ]
  },
  {
   "cell_type": "code",
   "execution_count": 65,
   "id": "dbef57a8-9aeb-455b-b7be-745d327d14e3",
   "metadata": {},
   "outputs": [],
   "source": [
    "firm_names = [str(name) for name in df['Cleaned_Name'].tolist()]"
   ]
  },
  {
   "cell_type": "code",
   "execution_count": 56,
   "id": "1348316d-da3e-43c0-9c88-8ed564acf832",
   "metadata": {},
   "outputs": [
    {
     "data": {
      "text/plain": [
       "7837"
      ]
     },
     "execution_count": 56,
     "metadata": {},
     "output_type": "execute_result"
    }
   ],
   "source": [
    "len(firm_names)"
   ]
  },
  {
   "cell_type": "code",
   "execution_count": 57,
   "id": "e5967870-7714-4399-9acd-7315aba61be2",
   "metadata": {},
   "outputs": [],
   "source": [
    "unigram_fn = [name for name in firm_names if len(name.split()) == 1]\n",
    "bigram_fn = [name for name in firm_names if len(name.split()) > 1]"
   ]
  },
  {
   "cell_type": "code",
   "execution_count": 58,
   "id": "9c59bc2a-92e7-4a3f-bfab-eaedb9254280",
   "metadata": {},
   "outputs": [
    {
     "data": {
      "text/plain": [
       "1430"
      ]
     },
     "execution_count": 58,
     "metadata": {},
     "output_type": "execute_result"
    }
   ],
   "source": [
    "len(unigram_fn)"
   ]
  },
  {
   "cell_type": "code",
   "execution_count": 59,
   "id": "bb8af35c-28c8-46d8-a4c1-30e13cb4931a",
   "metadata": {},
   "outputs": [],
   "source": [
    "unigram_firms_to_check = []\n",
    "for i in unigram_fn:\n",
    "    if i in word_list:\n",
    "        unigram_firms_to_check.append(i)"
   ]
  },
  {
   "cell_type": "code",
   "execution_count": 67,
   "id": "a951f158-3972-40bd-9179-257706e43502",
   "metadata": {},
   "outputs": [
    {
     "data": {
      "text/plain": [
       "0.1055944055944056"
      ]
     },
     "execution_count": 67,
     "metadata": {},
     "output_type": "execute_result"
    }
   ],
   "source": [
    "len(unigram_firms_to_check)/len(unigram_fn)"
   ]
  },
  {
   "cell_type": "code",
   "execution_count": 61,
   "id": "7a7f7e1e-7bc1-4219-9193-841b34ee996b",
   "metadata": {},
   "outputs": [
    {
     "data": {
      "text/plain": [
       "['plexus',\n",
       " 'hanger',\n",
       " 'oracle',\n",
       " 'beam',\n",
       " 'brunswick',\n",
       " 'dell',\n",
       " 'spire',\n",
       " 'ambient',\n",
       " 'carbonite',\n",
       " 'xylem',\n",
       " 'intermolecular',\n",
       " 'yelp',\n",
       " 'audience',\n",
       " 'crush',\n",
       " 'workday',\n",
       " 'ambarella',\n",
       " 'west',\n",
       " 'cyan',\n",
       " 'gogo',\n",
       " 'premier',\n",
       " 'analogic',\n",
       " 'potbelly',\n",
       " 'twitter',\n",
       " 'ability',\n",
       " 'inogen',\n",
       " 'alphabet',\n",
       " 'apple',\n",
       " 'now',\n",
       " 'resonant',\n",
       " 'joint',\n",
       " 'momo',\n",
       " 'box',\n",
       " 'chiasma',\n",
       " 'penumbra',\n",
       " 'square',\n",
       " 'line',\n",
       " 'verso',\n",
       " 'parkway',\n",
       " 'fortis',\n",
       " 'popular',\n",
       " 'snap',\n",
       " 'presidio',\n",
       " 'safehold',\n",
       " 'diagnostics',\n",
       " 'best',\n",
       " 'switch',\n",
       " 'meridian',\n",
       " 'longfin',\n",
       " 'mogo',\n",
       " 'upwork',\n",
       " 'elastic',\n",
       " 'southern',\n",
       " 'fox',\n",
       " 'dow',\n",
       " 'caterpillar',\n",
       " 'chewy',\n",
       " 'nephros',\n",
       " 'health',\n",
       " 'crane',\n",
       " 'cache',\n",
       " 'canon',\n",
       " 'cascade',\n",
       " 'corning',\n",
       " 'coherent',\n",
       " 'whirlpool',\n",
       " 'nan',\n",
       " 'dover',\n",
       " 'courier',\n",
       " 'cubic',\n",
       " 'eastern',\n",
       " 'escalade',\n",
       " 'pall',\n",
       " 'seaboard',\n",
       " 'energy',\n",
       " 'apache',\n",
       " 'newmarket',\n",
       " 'interface',\n",
       " 'interdigital',\n",
       " 'interphase',\n",
       " 'griffon',\n",
       " 'cabot',\n",
       " 'target',\n",
       " 'alexanders',\n",
       " 'costa',\n",
       " 'ball',\n",
       " 'gap',\n",
       " 'graham',\n",
       " 'deluxe',\n",
       " 'phi',\n",
       " 'unit',\n",
       " 'progressive',\n",
       " 'team',\n",
       " 'spire',\n",
       " 'carnival',\n",
       " 'adobe',\n",
       " 'immunogen',\n",
       " 'exponent',\n",
       " 'sonic',\n",
       " 'ann',\n",
       " 'aes',\n",
       " 'biogen',\n",
       " 'vapor',\n",
       " 'scholastic',\n",
       " 'buckle',\n",
       " 'cree',\n",
       " 'intuit',\n",
       " 'copart',\n",
       " 'harmonic',\n",
       " 'pool',\n",
       " 'chase',\n",
       " 'banner',\n",
       " 'emeritus',\n",
       " 'conceptus',\n",
       " 'sapient',\n",
       " 'yahoo',\n",
       " 'guess',\n",
       " 'aware',\n",
       " 'woodward',\n",
       " 'knoll',\n",
       " 'maximus',\n",
       " 'reis',\n",
       " 'orange',\n",
       " 'echelon',\n",
       " 'nautilus',\n",
       " 'pantry',\n",
       " 'quantum',\n",
       " 'move',\n",
       " 'immersion',\n",
       " 'determine',\n",
       " 'sina',\n",
       " 'conversant',\n",
       " 'tapestry',\n",
       " 'anthem',\n",
       " 'tellurian',\n",
       " 'assurant',\n",
       " 'stereotaxis',\n",
       " 'local',\n",
       " 'northwestern',\n",
       " 'huntsman',\n",
       " 'pike',\n",
       " 'discovery',\n",
       " 'cynosure',\n",
       " 'catamaran',\n",
       " 'volcano',\n",
       " 'dialogic',\n",
       " 'agria',\n",
       " 'fluent',\n",
       " 'visa',\n",
       " 'lear',\n",
       " 'calix',\n",
       " 'express']"
      ]
     },
     "execution_count": 61,
     "metadata": {},
     "output_type": "execute_result"
    }
   ],
   "source": [
    "unigram_firms_to_check"
   ]
  },
  {
   "cell_type": "code",
   "execution_count": 62,
   "id": "7730448d-a7ee-4a20-8636-8da524617762",
   "metadata": {},
   "outputs": [],
   "source": [
    "# bigram_fn"
   ]
  },
  {
   "cell_type": "code",
   "execution_count": null,
   "id": "b2568d56-38ff-40d8-9a32-bc5fec553417",
   "metadata": {},
   "outputs": [],
   "source": []
  }
 ],
 "metadata": {
  "kernelspec": {
   "display_name": "Python 3 (ipykernel)",
   "language": "python",
   "name": "python3"
  },
  "language_info": {
   "codemirror_mode": {
    "name": "ipython",
    "version": 3
   },
   "file_extension": ".py",
   "mimetype": "text/x-python",
   "name": "python",
   "nbconvert_exporter": "python",
   "pygments_lexer": "ipython3",
   "version": "3.9.12"
  }
 },
 "nbformat": 4,
 "nbformat_minor": 5
}
