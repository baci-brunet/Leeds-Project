{
 "cells": [
  {
   "cell_type": "code",
   "execution_count": 77,
   "id": "5cc3d18b-3c99-42c6-8c88-d393b68c78d5",
   "metadata": {},
   "outputs": [],
   "source": [
    "import pandas as pd\n",
    "import numpy as np\n",
    "import os\n",
    "import time"
   ]
  },
  {
   "cell_type": "code",
   "execution_count": 78,
   "id": "e79f3cd1-19b0-4ec9-818f-3a874fafda94",
   "metadata": {},
   "outputs": [],
   "source": [
    "raw_data = '../../OutputRaw'"
   ]
  },
  {
   "cell_type": "code",
   "execution_count": 79,
   "id": "34ef350a-fa65-457f-93d3-88c912e054c2",
   "metadata": {},
   "outputs": [],
   "source": [
    "def get_files(path):\n",
    "    ret = []\n",
    "    for folder in os.listdir(path):\n",
    "        if folder != '.DS_Store' and folder != 'FirmNameStats.txt' and folder != 'OutputStats.txt' and folder != '.ipynb_checkpoints':\n",
    "            for file in os.listdir(os.path.join(path, folder)):\n",
    "                if file != '.DS_Store' and file != '.ipynb_checkpoints':\n",
    "                    ret.append((os.path.join(path + '/' + folder, file)))\n",
    "    return ret"
   ]
  },
  {
   "cell_type": "code",
   "execution_count": 80,
   "id": "b5682199-ab4d-474a-ad58-c59fb6670d39",
   "metadata": {},
   "outputs": [],
   "source": [
    "raw_files = get_files(raw_data)"
   ]
  },
  {
   "cell_type": "markdown",
   "id": "a670670b-74c0-445a-a157-8a24bc2b1919",
   "metadata": {},
   "source": [
    "**Firm Names that double as English Words**"
   ]
  },
  {
   "cell_type": "code",
   "execution_count": 81,
   "id": "2d45df81-ae36-4072-87d0-672fc11b09ec",
   "metadata": {},
   "outputs": [],
   "source": [
    "english_fn = ['bandwidth', 'plexus', 'hanger', 'oracle', 'beam', 'brunswick', 'dell', 'spire', 'ambient', 'carbonite', 'xylem', 'intermolecular', 'yelp', 'audience', 'crush', 'workday', 'ambarella', 'west', 'cyan', 'gogo', 'premier', 'analogic', 'potbelly', 'twitter', 'ability', 'inogen', 'alphabet', 'apple', 'now', 'resonant', 'joint', 'momo', 'box', 'chiasma', 'penumbra', 'square', 'line', 'verso', 'parkway', 'fortis', 'popular', 'snap', 'presidio', 'safehold', 'diagnostics', 'best', 'switch', 'meridian', 'longfin', 'mogo', 'upwork', 'elastic', 'southern', 'fox', 'dow', 'caterpillar', 'chewy', 'nephros', 'health', 'crane', 'cache', 'canon', 'cascade', 'corning', 'coherent', 'whirlpool', 'nan', 'dover', 'courier', 'cubic', 'eastern', 'escalade', 'pall', 'seaboard', 'energy', 'apache', 'newmarket', 'interface', 'interdigital', 'interphase', 'griffon', 'cabot', 'target', 'alexanders', 'costa', 'ball', 'gap', 'graham', 'deluxe', 'phi', 'unit', 'progressive', 'team', 'spire', 'carnival', 'adobe', 'immunogen', 'exponent', 'sonic', 'ann', 'aes', 'biogen', 'vapor', 'scholastic', 'buckle', 'cree', 'intuit', 'copart', 'harmonic', 'pool', 'chase', 'banner', 'emeritus', 'conceptus', 'sapient', 'yahoo', 'guess', 'aware', 'woodward', 'knoll', 'maximus', 'reis', 'orange', 'echelon', 'nautilus', 'pantry', 'quantum', 'move', 'immersion', 'determine', 'sina', 'conversant', 'tapestry', 'anthem', 'tellurian', 'assurant', 'stereotaxis', 'local', 'northwestern', 'huntsman', 'pike', 'discovery', 'cynosure', 'catamaran', 'volcano', 'dialogic', 'agria', 'fluent', 'visa', 'lear', 'calix', 'express']"
   ]
  },
  {
   "cell_type": "code",
   "execution_count": 82,
   "id": "7f47abab-cbcc-44e0-be8f-e4cdc982ba3f",
   "metadata": {},
   "outputs": [],
   "source": [
    "def get_list(org_list):\n",
    "    ret = []\n",
    "    for string in org_list:\n",
    "        for ent in string.split(', '):\n",
    "            if ent not in ret:\n",
    "                ret.append(ent)\n",
    "    return ret"
   ]
  },
  {
   "cell_type": "code",
   "execution_count": 83,
   "id": "e36b2e24-e46b-4e1e-95e0-e71420251b28",
   "metadata": {},
   "outputs": [],
   "source": [
    "raw_list = []\n",
    "for i in range(len(raw_files)):\n",
    "    raw_df = pd.read_csv(raw_files[i])\n",
    "    raw_list.append(get_list([str(org) for org in raw_df['Matched Organizations'].tolist()]))"
   ]
  },
  {
   "cell_type": "code",
   "execution_count": 84,
   "id": "ffdfe183-d8f7-4bf8-ac40-486ea27afc36",
   "metadata": {},
   "outputs": [],
   "source": [
    "raw = []\n",
    "for l in raw_list:\n",
    "    for i in l:\n",
    "        if i not in raw:\n",
    "            raw.append(i)"
   ]
  },
  {
   "cell_type": "code",
   "execution_count": 85,
   "id": "0c293ad9-eedb-44b1-ab30-1fc1892a0ec1",
   "metadata": {},
   "outputs": [
    {
     "data": {
      "text/plain": [
       "3214"
      ]
     },
     "execution_count": 85,
     "metadata": {},
     "output_type": "execute_result"
    }
   ],
   "source": [
    "len(raw)"
   ]
  },
  {
   "cell_type": "code",
   "execution_count": 86,
   "id": "98ccfd23-ead6-490f-9250-c55ae3db17c6",
   "metadata": {},
   "outputs": [],
   "source": [
    "unis = [i for i in raw if len(i.split()) == 1]"
   ]
  },
  {
   "cell_type": "code",
   "execution_count": 87,
   "id": "9ee5461a-4a30-4aaa-89fc-b869c8e72548",
   "metadata": {},
   "outputs": [],
   "source": [
    "check_list = []\n",
    "for i in unis:\n",
    "    if i in english_fn:\n",
    "        check_list.append(i)"
   ]
  },
  {
   "cell_type": "code",
   "execution_count": 88,
   "id": "11561bb4-b0c9-4064-b052-97e5bd920c31",
   "metadata": {},
   "outputs": [
    {
     "data": {
      "text/plain": [
       "147"
      ]
     },
     "execution_count": 88,
     "metadata": {},
     "output_type": "execute_result"
    }
   ],
   "source": [
    "len(check_list)"
   ]
  },
  {
   "cell_type": "code",
   "execution_count": 89,
   "id": "3d6be19b-f632-468b-a031-e15027300fe3",
   "metadata": {},
   "outputs": [
    {
     "name": "stdout",
     "output_type": "stream",
     "text": [
      "Time Taken (sec): 65.29056477546692\n"
     ]
    }
   ],
   "source": [
    "start = time.time()\n",
    "for ind in range(len(raw_files)):\n",
    "    raw_df = pd.read_csv(raw_files[ind])\n",
    "    for i in range(len(raw_df.index)):\n",
    "        cl_context = []\n",
    "        for org in raw_df.loc[i, 'Context'].split('\\n'):\n",
    "            if org and org.split('(')[0].rstrip() not in check_list:\n",
    "                cl_context.append(org.split('(')[0].rstrip())\n",
    "        if cl_context:\n",
    "            raw_df.loc[i, 'Validated'] = ', '.join(cl_context)\n",
    "        else:\n",
    "            raw_df.loc[i, 'Validated'] = 'None'\n",
    "    raw_df.to_csv(raw_files[ind], index=False)\n",
    "end = time.time()\n",
    "print('Time Taken (sec):', end - start)"
   ]
  },
  {
   "cell_type": "markdown",
   "id": "59c15da9-cad1-408a-9127-08c1ff5f0895",
   "metadata": {},
   "source": [
    "**Grab Day of Mention for each set of Validated Firm Names**"
   ]
  },
  {
   "cell_type": "code",
   "execution_count": 90,
   "id": "cc80a6d2-62d9-44f7-961d-919b5434a3f3",
   "metadata": {},
   "outputs": [],
   "source": [
    "for ind in range(len(raw_files)):\n",
    "    raw_df = pd.read_csv(raw_files[ind])\n",
    "    raw_df['Date'] = raw_df['URL'].apply(\n",
    "        lambda url: url.split('/')[2].split('_')[1])\n",
    "    raw_df['Date'] = raw_df['Date'].apply(\n",
    "        lambda text: datetime.date(int(text[0:4]), int(text[4:6]), int(text[6:8])))\n",
    "    raw_df.to_csv(raw_files[ind], index=False)"
   ]
  },
  {
   "cell_type": "code",
   "execution_count": null,
   "id": "44d03bb6-5512-4aad-8517-1ef393c20c5e",
   "metadata": {},
   "outputs": [],
   "source": []
  }
 ],
 "metadata": {
  "kernelspec": {
   "display_name": "Python 3 (ipykernel)",
   "language": "python",
   "name": "python3"
  },
  "language_info": {
   "codemirror_mode": {
    "name": "ipython",
    "version": 3
   },
   "file_extension": ".py",
   "mimetype": "text/x-python",
   "name": "python",
   "nbconvert_exporter": "python",
   "pygments_lexer": "ipython3",
   "version": "3.9.12"
  }
 },
 "nbformat": 4,
 "nbformat_minor": 5
}
